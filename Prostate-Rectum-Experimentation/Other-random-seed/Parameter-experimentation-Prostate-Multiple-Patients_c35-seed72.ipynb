{
 "cells": [
  {
   "cell_type": "code",
   "execution_count": 1,
   "metadata": {},
   "outputs": [],
   "source": [
    "%matplotlib inline\n",
    "\n",
    "from dicom_utils import *\n",
    "import numpy as np \n",
    "import pandas as pd \n",
    "import os\n",
    "import pydicom\n",
    "import matplotlib.pyplot as plt\n",
    "#import assd_func as af\n",
    "from skimage import morphology\n",
    "import matplotlib.patches as mpatches\n",
    "import assd_func_Sobel_2 as af_Sobel\n",
    "import time\n",
    "import random\n",
    "from scipy.stats import uniform,norm"
   ]
  },
  {
   "cell_type": "code",
   "execution_count": 2,
   "metadata": {},
   "outputs": [],
   "source": [
    "organ = \"prostate\" #Change this your organ"
   ]
  },
  {
   "cell_type": "code",
   "execution_count": 3,
   "metadata": {},
   "outputs": [],
   "source": [
    "dicom_dir = \"/home/vily/MRI-Project/contour_segmentation/Prostate Cases/1\"\n",
    "output_dir = \"Output\"\n",
    "images_1, slices_1, contours_1, labels_1, dummy_mask_1 = main(dicom_dir, output_dir)"
   ]
  },
  {
   "cell_type": "code",
   "execution_count": 4,
   "metadata": {},
   "outputs": [],
   "source": [
    "dicom_dir = \"/home/vily/MRI-Project/contour_segmentation/Prostate Cases/3\"\n",
    "output_dir = \"Output\"\n",
    "images_3, slices_3, contours_3, labels_3, dummy_mask_3 = main(dicom_dir, output_dir)"
   ]
  },
  {
   "cell_type": "code",
   "execution_count": 5,
   "metadata": {},
   "outputs": [
    {
     "name": "stdout",
     "output_type": "stream",
     "text": [
      "   Missing contours for structure: sigmoid\n"
     ]
    }
   ],
   "source": [
    "dicom_dir = \"/home/vily/MRI-Project/contour_segmentation/Prostate Cases/4\"\n",
    "output_dir = \"Output\"\n",
    "images_4, slices_4, contours_4, labels_4, dummy_mask_4 = main(dicom_dir, output_dir)"
   ]
  },
  {
   "cell_type": "code",
   "execution_count": 6,
   "metadata": {},
   "outputs": [
    {
     "name": "stdout",
     "output_type": "stream",
     "text": [
      "   Missing contours for structure: CTV_\n",
      "   Missing contours for structure: SeminalVes_Dist\n",
      "   Missing contours for structure: Hot Spot 7210 cGy (Rectum)\n",
      "   Missing contours for structure: Hot Spot 7350 cGy (Total PTV)\n"
     ]
    }
   ],
   "source": [
    "dicom_dir = \"/home/vily/MRI-Project/contour_segmentation/Prostate Cases/5\"\n",
    "output_dir = \"Output\"\n",
    "images_5, slices_5, contours_5, labels_5, dummy_mask_5 = main(dicom_dir, output_dir)"
   ]
  },
  {
   "cell_type": "markdown",
   "metadata": {},
   "source": [
    "=> Patient 5 has no prostate (fossa)"
   ]
  },
  {
   "cell_type": "code",
   "execution_count": 7,
   "metadata": {},
   "outputs": [],
   "source": [
    "dicom_dir = \"/home/vily/MRI-Project/contour_segmentation/Prostate Cases/6\"\n",
    "output_dir = \"Output\"\n",
    "images_6, slices_6, contours_6, labels_6, dummy_mask_6 = main(dicom_dir, output_dir)"
   ]
  },
  {
   "cell_type": "code",
   "execution_count": 8,
   "metadata": {},
   "outputs": [],
   "source": [
    "dicom_dir = \"/home/vily/MRI-Project/contour_segmentation/Prostate Cases/7\"\n",
    "output_dir = \"Output\"\n",
    "images_7, slices_7, contours_7, labels_7, dummy_mask_7 = main(dicom_dir, output_dir)"
   ]
  },
  {
   "cell_type": "code",
   "execution_count": null,
   "metadata": {},
   "outputs": [],
   "source": [
    "dicom_dir = \"/home/vily/MRI-Project/contour_segmentation/Prostate Cases/8\"\n",
    "output_dir = \"Output\"\n",
    "images_8, slices_8, contours_8, labels_8, dummy_mask_8 = main(dicom_dir, output_dir)"
   ]
  },
  {
   "cell_type": "code",
   "execution_count": null,
   "metadata": {},
   "outputs": [],
   "source": [
    "dicom_dir = \"/home/vily/MRI-Project/contour_segmentation/Prostate Cases/9\"\n",
    "output_dir = \"Output\"\n",
    "images_9, slices_9, contours_9, labels_9, dummy_mask_9 = main(dicom_dir, output_dir)"
   ]
  },
  {
   "cell_type": "code",
   "execution_count": null,
   "metadata": {},
   "outputs": [],
   "source": [
    "dicom_dir = \"/home/vily/MRI-Project/contour_segmentation/Prostate Cases/10\"\n",
    "output_dir = \"Output\"\n",
    "images_10, slices_10, contours_10, labels_10, dummy_mask_10 = main(dicom_dir, output_dir)"
   ]
  },
  {
   "cell_type": "markdown",
   "metadata": {},
   "source": [
    "# Rectum"
   ]
  },
  {
   "cell_type": "code",
   "execution_count": null,
   "metadata": {},
   "outputs": [],
   "source": [
    "def find_roi_slices(images, labels, i):\n",
    "    roi_z = []\n",
    "    for j in range(images.shape[0]):\n",
    "        if True in np.unique(labels[..., i][j, ...] > 0):\n",
    "            roi_z.append(j)\n",
    "    return roi_z\n",
    "\n",
    "def find_organ_i(organ, contours):\n",
    "    contour_table = pd.DataFrame()\n",
    "    number = []\n",
    "    name = []\n",
    "    for i in range(len(contours)):\n",
    "        number.append(contours[i][\"number\"])\n",
    "        name.append(contours[i][\"name\"])\n",
    "    #contour_table[\"number\"] = number\n",
    "    contour_table[\"name\"] = name\n",
    "    contour_table\n",
    "    organ_i =  contour_table[contour_table[\"name\"].str.contains(organ)].index.tolist()[0]\n",
    "    return organ_i"
   ]
  },
  {
   "cell_type": "code",
   "execution_count": null,
   "metadata": {},
   "outputs": [],
   "source": [
    "organ_i_1 =  find_organ_i(organ, contours_1)\n",
    "organ_i_1"
   ]
  },
  {
   "cell_type": "code",
   "execution_count": null,
   "metadata": {},
   "outputs": [],
   "source": [
    "roi_z_1 = find_roi_slices(images_1, labels_1, organ_i_1)"
   ]
  },
  {
   "cell_type": "code",
   "execution_count": null,
   "metadata": {},
   "outputs": [],
   "source": [
    "plt.figure(figsize=(15, 15))\n",
    "for i in range(9):\n",
    "    plt.subplot(3, 3, i + 1)\n",
    "    plt.imshow(images_1[i + roi_z_1[0], ...], cmap=\"gray\", vmin=-250, vmax=250)\n",
    "    plt.contour(labels_1[..., organ_i_1][i + 63, ...], levels=[0.5, 1.5, 2.5, 3.5, 4.5], colors=\"blue\")\n",
    "plt.axis('off')"
   ]
  },
  {
   "cell_type": "markdown",
   "metadata": {},
   "source": [
    "plt.figure(figsize=(15, 15))\n",
    "for i in range(9):\n",
    "    plt.subplot(3, 3, i + 1)\n",
    "    plt.imshow(images_2[i + 63, ...], cmap=\"gray\", vmin=-250, vmax=250)\n",
    "    plt.contour(labels_2[..., organ_i][i + 63, ...], levels=[0.5, 1.5, 2.5, 3.5, 4.5], colors=\"blue\")\n",
    "plt.axis('off')"
   ]
  },
  {
   "cell_type": "code",
   "execution_count": null,
   "metadata": {},
   "outputs": [],
   "source": [
    "organ_i_3 =  find_organ_i(organ, contours_3)\n",
    "organ_i_3"
   ]
  },
  {
   "cell_type": "code",
   "execution_count": null,
   "metadata": {},
   "outputs": [],
   "source": [
    "roi_z_3 = find_roi_slices(images_3, labels_3, organ_i_3)"
   ]
  },
  {
   "cell_type": "code",
   "execution_count": null,
   "metadata": {},
   "outputs": [],
   "source": [
    "plt.figure(figsize=(15, 15))\n",
    "for i in range(9):\n",
    "    plt.subplot(3, 3, i + 1)\n",
    "    plt.imshow(images_3[i + roi_z_3[0], ...], cmap=\"gray\", vmin=-250, vmax=250)\n",
    "    plt.contour(labels_3[..., organ_i_3][i + roi_z_3[0], ...], levels=[0.5, 1.5, 2.5, 3.5, 4.5], colors=\"blue\")\n",
    "plt.axis('off')"
   ]
  },
  {
   "cell_type": "code",
   "execution_count": null,
   "metadata": {},
   "outputs": [],
   "source": [
    "organ_i_4 =  find_organ_i(organ, contours_4)\n",
    "organ_i_4"
   ]
  },
  {
   "cell_type": "code",
   "execution_count": null,
   "metadata": {},
   "outputs": [],
   "source": [
    "roi_z_4 = find_roi_slices(images_4, labels_4, organ_i_4)"
   ]
  },
  {
   "cell_type": "code",
   "execution_count": null,
   "metadata": {},
   "outputs": [],
   "source": [
    "plt.figure(figsize=(15, 15))\n",
    "for i in range(9):\n",
    "    plt.subplot(3, 3, i + 1)\n",
    "    plt.imshow(images_4[i + roi_z_4[0], ...], cmap=\"gray\", vmin=-250, vmax=250)\n",
    "    plt.contour(labels_4[..., organ_i_4][i + roi_z_4[0], ...], levels=[0.5, 1.5, 2.5, 3.5, 4.5], colors=\"blue\")\n",
    "plt.axis('off')"
   ]
  },
  {
   "cell_type": "code",
   "execution_count": null,
   "metadata": {},
   "outputs": [],
   "source": [
    "organ_i_6 =  find_organ_i(organ, contours_6)\n",
    "organ_i_6"
   ]
  },
  {
   "cell_type": "code",
   "execution_count": null,
   "metadata": {},
   "outputs": [],
   "source": [
    "roi_z_6 = find_roi_slices(images_6, labels_6, organ_i_6)"
   ]
  },
  {
   "cell_type": "code",
   "execution_count": null,
   "metadata": {},
   "outputs": [],
   "source": [
    "plt.figure(figsize=(15, 15))\n",
    "for i in range(9):\n",
    "    plt.subplot(3, 3, i + 1)\n",
    "    plt.imshow(images_6[i + roi_z_6[0], ...], cmap=\"gray\", vmin=-250, vmax=250)\n",
    "    plt.contour(labels_6[..., organ_i_6][i + roi_z_6[0], ...], levels=[0.5, 1.5, 2.5, 3.5, 4.5], colors=\"blue\")\n",
    "plt.axis('off')"
   ]
  },
  {
   "cell_type": "code",
   "execution_count": null,
   "metadata": {},
   "outputs": [],
   "source": [
    "organ_i_7 =  find_organ_i(organ, contours_7)\n",
    "organ_i_7"
   ]
  },
  {
   "cell_type": "code",
   "execution_count": null,
   "metadata": {},
   "outputs": [],
   "source": [
    "roi_z_7 = find_roi_slices(images_7, labels_7, organ_i_7)"
   ]
  },
  {
   "cell_type": "code",
   "execution_count": null,
   "metadata": {},
   "outputs": [],
   "source": [
    "plt.figure(figsize=(15, 15))\n",
    "for i in range(9):\n",
    "    plt.subplot(3, 3, i + 1)\n",
    "    plt.imshow(images_7[i + roi_z_7[0], ...], cmap=\"gray\", vmin=-250, vmax=250)\n",
    "    plt.contour(labels_7[..., organ_i_7][i + roi_z_7[0], ...], levels=[0.5, 1.5, 2.5, 3.5, 4.5], colors=\"blue\")\n",
    "plt.axis('off')"
   ]
  },
  {
   "cell_type": "code",
   "execution_count": null,
   "metadata": {},
   "outputs": [],
   "source": [
    "organ_i_8 =  find_organ_i(organ, contours_8)\n",
    "organ_i_8"
   ]
  },
  {
   "cell_type": "code",
   "execution_count": null,
   "metadata": {},
   "outputs": [],
   "source": [
    "roi_z_8 = find_roi_slices(images_8, labels_8, organ_i_8)"
   ]
  },
  {
   "cell_type": "code",
   "execution_count": null,
   "metadata": {},
   "outputs": [],
   "source": [
    "plt.figure(figsize=(15, 15))\n",
    "for i in range(9):\n",
    "    plt.subplot(3, 3, i + 1)\n",
    "    plt.imshow(images_8[i + roi_z_8[0], ...], cmap=\"gray\", vmin=-250, vmax=250)\n",
    "    plt.contour(labels_8[..., organ_i_8][i + roi_z_8[0], ...], levels=[0.5, 1.5, 2.5, 3.5, 4.5], colors=\"blue\")\n",
    "plt.axis('off')"
   ]
  },
  {
   "cell_type": "code",
   "execution_count": null,
   "metadata": {},
   "outputs": [],
   "source": [
    "organ_i_9 =  find_organ_i(organ, contours_9)\n",
    "organ_i_9"
   ]
  },
  {
   "cell_type": "code",
   "execution_count": null,
   "metadata": {},
   "outputs": [],
   "source": [
    "roi_z_9 = find_roi_slices(images_9, labels_9, organ_i_9)"
   ]
  },
  {
   "cell_type": "code",
   "execution_count": null,
   "metadata": {},
   "outputs": [],
   "source": [
    "plt.figure(figsize=(15, 15))\n",
    "for i in range(9):\n",
    "    plt.subplot(3, 3, i + 1)\n",
    "    plt.imshow(images_9[i + roi_z_9[0], ...], cmap=\"gray\", vmin=-250, vmax=250)\n",
    "    plt.contour(labels_9[..., organ_i_9][i + roi_z_9[0], ...], levels=[0.5, 1.5, 2.5, 3.5, 4.5], colors=\"blue\")\n",
    "plt.axis('off')"
   ]
  },
  {
   "cell_type": "code",
   "execution_count": null,
   "metadata": {},
   "outputs": [],
   "source": [
    "organ_i_10 =  find_organ_i(organ, contours_10)\n",
    "organ_i_10"
   ]
  },
  {
   "cell_type": "code",
   "execution_count": null,
   "metadata": {},
   "outputs": [],
   "source": [
    "roi_z_10 = find_roi_slices(images_10, labels_10, organ_i_10)"
   ]
  },
  {
   "cell_type": "code",
   "execution_count": null,
   "metadata": {},
   "outputs": [],
   "source": [
    "organ_i = 4\n",
    "plt.figure(figsize=(15, 15))\n",
    "for i in range(9):\n",
    "    plt.subplot(3, 3, i + 1)\n",
    "    plt.imshow(images_10[i + roi_z_10[0], ...], cmap=\"gray\", vmin=-250, vmax=250)\n",
    "    plt.contour(labels_10[..., organ_i_10][i + roi_z_10[0], ...], levels=[0.5, 1.5, 2.5, 3.5, 4.5], colors=\"blue\")\n",
    "plt.axis('off')"
   ]
  },
  {
   "cell_type": "markdown",
   "metadata": {},
   "source": [
    "## Different Slices"
   ]
  },
  {
   "cell_type": "markdown",
   "metadata": {},
   "source": [
    "c = 20\n",
    "k = 15\n",
    "w = 2\n",
    "SD=[c*1.3, c*1.3, c*3]\n",
    "assd_contour_rectum_num = labels_num[..., organ_i_num].copy()\n",
    "seed = 123\n",
    "\n",
    "for i in roi_z_num:\n",
    "    dx, dy, masknum, t, L, roi_z_num = af_Sobel.assd_Sobel(images_num[i, ...], labels_num[..., organ_i_num][i, ...], voxelsize, a, SD, circles, seed, k, w, images_num, labels_num, organ_i_num, ismax=ismax, smooth=True)\n",
    "    dunum = af_Sobel.plotting_assd(dx, dy, masknum, images_num[i, ...], quiver=False, plot=False) \n",
    "    assd_contour_rectum_num[i, ...] = dunum  \n",
    "assd_contour_rectum_num = np.array(assd_contour_rectum_num)\n",
    "\n",
    "plt.figure(figsize=(15, 15))\n",
    "for i in range(25):\n",
    "    plt.subplot(5, 5, i + 1)\n",
    "    plt.imshow(images_num[roi_z_num[i] , ...], cmap=\"gray\", vmin=-250, vmax=250)\n",
    "    plt.contour(assd_contour_rectum_num[roi_z_num[i], ...], levels = [0.5, 1.5, 2.5, 3.5, 4.5], colors=\"red\")\n",
    "    plt.contour(labels_num[..., roi_i_num][roi_z_num[i], ...], levels=[0.5, 1.5, 2.5, 3.5, 4.5], colors=\"blue\")\n",
    "    plt.xlim(270, 220)\n",
    "    plt.ylim(300, 260)\n",
    "    blue_patch = mpatches.Patch(color='blue', label=\"Clinician's contour\")\n",
    "    red_patch = mpatches.Patch(color='red', label='DU contour with random seed 1')\n",
    "    plt.legend(handles=[blue_patch, red_patch])\n",
    "plt.axis('off')"
   ]
  },
  {
   "cell_type": "code",
   "execution_count": null,
   "metadata": {},
   "outputs": [],
   "source": [
    "c = 35\n",
    "k = 15\n",
    "w = 2\n",
    "circles = 3\n",
    "ismax=True\n",
    "a = 50\n",
    "SD=[c*1.3, c*1.3, c*3]\n",
    "assd_contour_rectum_1 = labels_1[..., organ_i_1].copy()\n",
    "seed = 72\n",
    "\n",
    "for i in roi_z_1:\n",
    "    dx, dy, mask1, t, L, roi_z_1 = af_Sobel.assd_Sobel(images_1[i, ...], labels_1[..., organ_i_1][i, ...], voxelsize, a, SD, circles, seed, k, w, images_1, labels_1, organ_i_1, ismax=ismax, smooth=True)\n",
    "    du1 = af_Sobel.plotting_assd(dx, dy, mask1, images_1[i, ...], quiver=False, plot=False) \n",
    "    assd_contour_rectum_1[i, ...] = du1  \n",
    "assd_contour_rectum_1 = np.array(assd_contour_rectum_1)\n",
    "\n",
    "plt.figure(figsize=(15, 15))\n",
    "for i in range(15):\n",
    "    plt.subplot(3, 5, i + 1)\n",
    "    plt.imshow(images_1[roi_z_1[i] , ...], cmap=\"gray\", vmin=-250, vmax=250)\n",
    "    plt.contour(assd_contour_rectum_1[roi_z_1[i], ...], levels = [0.5, 1.5, 2.5, 3.5, 4.5], colors=\"red\")\n",
    "    plt.contour(labels_1[..., organ_i_1][roi_z_1[i], ...], levels=[0.5, 1.5, 2.5, 3.5, 4.5], colors=\"blue\")\n",
    "    plt.xlim(200, 300)\n",
    "    plt.ylim(300, 200)\n",
    "    blue_patch = mpatches.Patch(color='blue', label=\"Clinician's contour\")\n",
    "    red_patch = mpatches.Patch(color='red', label='DU contour with random seed 1')\n",
    "    plt.legend(handles=[blue_patch, red_patch])\n",
    "plt.axis('off')"
   ]
  },
  {
   "cell_type": "code",
   "execution_count": null,
   "metadata": {},
   "outputs": [],
   "source": [
    "k = 15\n",
    "w = 2\n",
    "SD=[c*1.3, c*1.3, c*3]\n",
    "assd_contour_rectum_3 = labels_3[..., organ_i_3].copy()\n",
    "\n",
    "\n",
    "for i in roi_z_3:\n",
    "    dx, dy, mask3, t, L, roi_z_3 = af_Sobel.assd_Sobel(images_3[i, ...], labels_3[..., organ_i_3][i, ...], voxelsize, a, SD, circles, seed, k, w, images_3, labels_3, organ_i_3, ismax=ismax, smooth=True)\n",
    "    du3 = af_Sobel.plotting_assd(dx, dy, mask3, images_3[i, ...], quiver=False, plot=False) \n",
    "    assd_contour_rectum_3[i, ...] = du3  \n",
    "assd_contour_rectum_3 = np.array(assd_contour_rectum_3)\n",
    "\n",
    "plt.figure(figsize=(15, 15))\n",
    "for i in range(15):\n",
    "    plt.subplot(3, 5, i + 1)\n",
    "    plt.imshow(images_3[roi_z_3[i] , ...], cmap=\"gray\", vmin=-250, vmax=250)\n",
    "    plt.contour(assd_contour_rectum_3[roi_z_3[i], ...], levels = [0.5, 1.5, 2.5, 3.5, 4.5], colors=\"red\")\n",
    "    plt.contour(labels_3[..., organ_i_3][roi_z_3[i], ...], levels=[0.5, 1.5, 2.5, 3.5, 4.5], colors=\"blue\")\n",
    "    plt.xlim(300, 180)\n",
    "    plt.ylim(180, 300)\n",
    "    #blue_patch = mpatches.Patch(color='blue', label=\"Clinician's contour\")\n",
    "    #red_patch = mpatches.Patch(color='red', label='DU contour with random seed 1')\n",
    "    #plt.legend(handles=[blue_patch, red_patch])\n",
    "plt.axis('off')"
   ]
  },
  {
   "cell_type": "code",
   "execution_count": null,
   "metadata": {},
   "outputs": [],
   "source": [
    "k = 15\n",
    "w = 2\n",
    "SD=[c*1.3, c*1.3, c*3]\n",
    "assd_contour_rectum_4 = labels_4[..., organ_i_4].copy()\n",
    "\n",
    "for i in roi_z_4:\n",
    "    dx, dy, mask4, t, L, roi_z_4 = af_Sobel.assd_Sobel(images_4[i, ...], labels_4[..., organ_i_4][i, ...], voxelsize, a, SD, circles, seed, k, w, images_4, labels_4, organ_i_4, ismax=ismax, smooth=True)\n",
    "    du4 = af_Sobel.plotting_assd(dx, dy, mask4, images_4[i, ...], quiver=False, plot=False) \n",
    "    assd_contour_rectum_4[i, ...] = du4  \n",
    "assd_contour_rectum_4 = np.array(assd_contour_rectum_4)\n",
    "\n",
    "plt.figure(figsize=(15, 15))\n",
    "for i in range(10):\n",
    "    plt.subplot(2, 5, i + 1)\n",
    "    plt.imshow(images_4[roi_z_4[i] , ...], cmap=\"gray\", vmin=-250, vmax=250)\n",
    "    plt.contour(assd_contour_rectum_4[roi_z_4[i], ...], levels = [0.5, 1.5, 2.5, 3.5, 4.5], colors=\"red\")\n",
    "    plt.contour(labels_4[..., organ_i_4][roi_z_4[i], ...], levels=[0.5, 1.5, 2.5, 3.5, 4.5], colors=\"blue\")\n",
    "    plt.xlim(300, 210)\n",
    "    plt.ylim(210, 300)\n",
    "    #blue_patch = mpatches.Patch(color='blue', label=\"Clinician's contour\")\n",
    "    #red_patch = mpatches.Patch(color='red', label='DU contour with random seed 1')\n",
    "    #plt.legend(handles=[blue_patch, red_patch])\n",
    "plt.axis('off')"
   ]
  },
  {
   "cell_type": "code",
   "execution_count": null,
   "metadata": {},
   "outputs": [],
   "source": [
    "k = 15\n",
    "w = 2\n",
    "SD=[c*1.3, c*1.3, c*3]\n",
    "assd_contour_rectum_6 = labels_6[..., organ_i_6].copy()\n",
    "\n",
    "for i in roi_z_6:\n",
    "    dx, dy, mask6, t, L, roi_z_6 = af_Sobel.assd_Sobel(images_6[i, ...], labels_6[..., organ_i_6][i, ...], voxelsize, a, SD, circles, seed, k, w, images_6, labels_6, organ_i_6, ismax=ismax, smooth=True)\n",
    "    du6 = af_Sobel.plotting_assd(dx, dy, mask6, images_6[i, ...], quiver=False, plot=False) \n",
    "    assd_contour_rectum_6[i, ...] = du6  \n",
    "assd_contour_rectum_6 = np.array(assd_contour_rectum_6)\n",
    "\n",
    "plt.figure(figsize=(15, 15))\n",
    "for i in range(15):\n",
    "    plt.subplot(3, 5, i + 1)\n",
    "    plt.imshow(images_6[roi_z_6[i] , ...], cmap=\"gray\", vmin=-250, vmax=250)\n",
    "    plt.contour(assd_contour_rectum_6[roi_z_6[i], ...], levels = [0.5, 1.5, 2.5, 3.5, 4.5], colors=\"red\")\n",
    "    plt.contour(labels_6[..., organ_i_6][roi_z_6[i], ...], levels=[0.5, 1.5, 2.5, 3.5, 4.5], colors=\"blue\")\n",
    "    plt.xlim(300, 200)\n",
    "    plt.ylim(200, 300)\n",
    "    #blue_patch = mpatches.Patch(color='blue', label=\"Clinician's contour\")\n",
    "    #red_patch = mpatches.Patch(color='red', label='DU contour with random seed 1')\n",
    "    #plt.legend(handles=[blue_patch, red_patch])\n",
    "plt.axis('off')"
   ]
  },
  {
   "cell_type": "code",
   "execution_count": null,
   "metadata": {},
   "outputs": [],
   "source": [
    "k = 15\n",
    "w = 2\n",
    "SD=[c*1.3, c*1.3, c*3]\n",
    "assd_contour_rectum_7 = labels_7[..., organ_i_7].copy()\n",
    "\n",
    "for i in roi_z_7:\n",
    "    dx, dy, mask7, t, L, roi_z_7 = af_Sobel.assd_Sobel(images_7[i, ...], labels_7[..., organ_i_7][i, ...], voxelsize, a, SD, circles, seed, k, w, images_7, labels_7, organ_i_7, ismax=ismax, smooth=True)\n",
    "    du7 = af_Sobel.plotting_assd(dx, dy, mask7, images_7[i, ...], quiver=False, plot=False) \n",
    "    assd_contour_rectum_7[i, ...] = du7  \n",
    "assd_contour_rectum_7 = np.array(assd_contour_rectum_7)\n",
    "\n",
    "plt.figure(figsize=(15, 15))\n",
    "for i in range(15):\n",
    "    plt.subplot(3, 5, i + 1)\n",
    "    plt.imshow(images_7[roi_z_7[i] , ...], cmap=\"gray\", vmin=-250, vmax=250)\n",
    "    plt.contour(assd_contour_rectum_7[roi_z_7[i], ...], levels = [0.5, 1.5, 2.5, 3.5, 4.5], colors=\"red\")\n",
    "    plt.contour(labels_7[..., organ_i_7][roi_z_7[i], ...], levels=[0.5, 1.5, 2.5, 3.5, 4.5], colors=\"blue\")\n",
    "    plt.xlim(300, 200)\n",
    "    plt.ylim(200, 300)\n",
    "    #blue_patch = mpatches.Patch(color='blue', label=\"Clinician's contour\")\n",
    "    #red_patch = mpatches.Patch(color='red', label='DU contour with random seed 1')\n",
    "    #plt.legend(handles=[blue_patch, red_patch])\n",
    "plt.axis('off')"
   ]
  },
  {
   "cell_type": "code",
   "execution_count": null,
   "metadata": {},
   "outputs": [],
   "source": [
    "k = 15\n",
    "w = 2\n",
    "SD=[c*1.3, c*1.3, c*3]\n",
    "assd_contour_rectum_8 = labels_8[..., organ_i_8].copy()\n",
    "\n",
    "for i in roi_z_8:\n",
    "    dx, dy, mask8, t, L, roi_z_8 = af_Sobel.assd_Sobel(images_8[i, ...], labels_8[..., organ_i_8][i, ...], voxelsize, a, SD, circles, seed, k, w, images_8, labels_8, organ_i_8, ismax=ismax, smooth=True)\n",
    "    du8 = af_Sobel.plotting_assd(dx, dy, mask8, images_8[i, ...], quiver=False, plot=False) \n",
    "    assd_contour_rectum_8[i, ...] = du8  \n",
    "assd_contour_rectum_8 = np.array(assd_contour_rectum_8)\n",
    "\n",
    "plt.figure(figsize=(15, 15))\n",
    "for i in range(15):\n",
    "    plt.subplot(3, 5, i + 1)\n",
    "    plt.imshow(images_8[roi_z_8[i] , ...], cmap=\"gray\", vmin=-250, vmax=250)\n",
    "    plt.contour(assd_contour_rectum_8[roi_z_8[i], ...], levels = [0.5, 1.5, 2.5, 3.5, 4.5], colors=\"red\")\n",
    "    plt.contour(labels_8[..., organ_i_8][roi_z_8[i], ...], levels=[0.5, 1.5, 2.5, 3.5, 4.5], colors=\"blue\")\n",
    "    plt.xlim(300, 200)\n",
    "    plt.ylim(200, 300)\n",
    "    #blue_patch = mpatches.Patch(color='blue', label=\"Clinician's contour\")\n",
    "    #red_patch = mpatches.Patch(color='red', label='DU contour with random seed 1')\n",
    "    #plt.legend(handles=[blue_patch, red_patch])\n",
    "plt.axis('off')"
   ]
  },
  {
   "cell_type": "code",
   "execution_count": null,
   "metadata": {},
   "outputs": [],
   "source": [
    "k = 15\n",
    "w = 2\n",
    "SD=[c*1.3, c*1.3, c*3]\n",
    "assd_contour_rectum_9 = labels_9[..., organ_i_9].copy()\n",
    "\n",
    "for i in roi_z_9:\n",
    "    dx, dy, mask9, t, L, roi_z_9 = af_Sobel.assd_Sobel(images_9[i, ...], labels_9[..., organ_i_9][i, ...], voxelsize, a, SD, circles, seed, k, w, images_9, labels_9, organ_i_9, ismax=ismax, smooth=True)\n",
    "    du9 = af_Sobel.plotting_assd(dx, dy, mask9, images_9[i, ...], quiver=False, plot=False) \n",
    "    assd_contour_rectum_9[i, ...] = du9  \n",
    "assd_contour_rectum_9 = np.array(assd_contour_rectum_9)\n",
    "\n",
    "plt.figure(figsize=(15, 15))\n",
    "for i in range(10):\n",
    "    plt.subplot(2, 5, i + 1)\n",
    "    plt.imshow(images_9[roi_z_9[i] , ...], cmap=\"gray\", vmin=-250, vmax=250)\n",
    "    plt.contour(assd_contour_rectum_9[roi_z_9[i], ...], levels = [0.5, 1.5, 2.5, 3.5, 4.5], colors=\"red\")\n",
    "    plt.contour(labels_9[..., organ_i_9][roi_z_9[i], ...], levels=[0.5, 1.5, 2.5, 3.5, 4.5], colors=\"blue\")\n",
    "    plt.xlim(300, 200)\n",
    "    plt.ylim(200, 300)\n",
    "    #blue_patch = mpatches.Patch(color='blue', label=\"Clinician's contour\")\n",
    "    #red_patch = mpatches.Patch(color='red', label='DU contour with random seed 1')\n",
    "    #plt.legend(handles=[blue_patch, red_patch])\n",
    "plt.axis('off')"
   ]
  },
  {
   "cell_type": "code",
   "execution_count": null,
   "metadata": {},
   "outputs": [],
   "source": [
    "k = 15\n",
    "w = 2\n",
    "SD=[c*1.3, c*1.3, c*3]\n",
    "assd_contour_rectum_10 = labels_10[..., organ_i_10].copy()\n",
    "\n",
    "for i in roi_z_10:\n",
    "    dx, dy, mask10, t, L, roi_z_10 = af_Sobel.assd_Sobel(images_10[i, ...], labels_10[..., organ_i_10][i, ...], voxelsize, a, SD, circles, seed, k, w, images_10, labels_10, organ_i_10, ismax=ismax, smooth=True)\n",
    "    du10 = af_Sobel.plotting_assd(dx, dy, mask10, images_10[i, ...], quiver=False, plot=False) \n",
    "    assd_contour_rectum_10[i, ...] = du10  \n",
    "assd_contour_rectum_10 = np.array(assd_contour_rectum_10)\n",
    "\n",
    "plt.figure(figsize=(15, 15))\n",
    "for i in range(15):\n",
    "    plt.subplot(3, 5, i + 1)\n",
    "    plt.imshow(images_10[roi_z_10[i] , ...], cmap=\"gray\", vmin=-250, vmax=250)\n",
    "    plt.contour(assd_contour_rectum_10[roi_z_10[i], ...], levels = [0.5, 1.5, 2.5, 3.5, 4.5], colors=\"red\")\n",
    "    plt.contour(labels_10[..., organ_i_10][roi_z_10[i], ...], levels=[0.5, 1.5, 2.5, 3.5, 4.5], colors=\"blue\")\n",
    "    plt.xlim(300, 200)\n",
    "    plt.ylim(200, 300)\n",
    "    #blue_patch = mpatches.Patch(color='blue', label=\"Clinician's contour\")\n",
    "    #red_patch = mpatches.Patch(color='red', label='DU contour with random seed 1')\n",
    "    #plt.legend(handles=[blue_patch, red_patch])\n",
    "plt.axis('off')"
   ]
  },
  {
   "cell_type": "code",
   "execution_count": null,
   "metadata": {},
   "outputs": [],
   "source": []
  }
 ],
 "metadata": {
  "kernelspec": {
   "display_name": "Python 3",
   "language": "python",
   "name": "python3"
  },
  "language_info": {
   "codemirror_mode": {
    "name": "ipython",
    "version": 3
   },
   "file_extension": ".py",
   "mimetype": "text/x-python",
   "name": "python",
   "nbconvert_exporter": "python",
   "pygments_lexer": "ipython3",
   "version": "3.7.4"
  }
 },
 "nbformat": 4,
 "nbformat_minor": 2
}
