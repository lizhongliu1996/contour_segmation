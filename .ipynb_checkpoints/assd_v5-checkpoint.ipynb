{
 "cells": [
  {
   "cell_type": "code",
   "execution_count": 1,
   "metadata": {},
   "outputs": [],
   "source": [
    "%matplotlib inline\n",
    "\n",
    "import numpy as np # linear algebra\n",
    "import pandas as pd # data processing, CSV file I/O (e.g. pd.read_csv)\n",
    "import pydicom\n",
    "import os\n",
    "import scipy.ndimage\n",
    "import math\n",
    "from skimage import morphology\n",
    "from skimage import measure\n",
    "from skimage.transform import resize\n",
    "from sklearn.cluster import KMeans\n",
    "from scipy.stats import uniform,norm\n",
    "import matplotlib.pyplot as plt\n",
    "import scipy.stats as sct\n",
    "from mpl_toolkits.mplot3d.art3d import Poly3DCollection\n",
    "from sklearn.cluster import KMeans\n",
    "from skimage import morphology\n",
    "from skimage.draw import polygon"
   ]
  },
  {
   "cell_type": "code",
   "execution_count": 2,
   "metadata": {},
   "outputs": [],
   "source": [
    "def read_structure(structure):\n",
    "    contours = []\n",
    "    for i in range(len(structure.ROIContourSequence)):\n",
    "        if i == 3:\n",
    "            contour = {}\n",
    "            contour['color'] = structure.ROIContourSequence[i].ROIDisplayColor\n",
    "            contour['number'] = structure.ROIContourSequence[i].ReferencedROINumber ##\n",
    "            contour['name'] = structure.StructureSetROISequence[i].ROIName\n",
    "            contour['number'] == structure.StructureSetROISequence[i].ROINumber\n",
    "            contour['contours'] = [s.ContourData for s in structure.ROIContourSequence[i].ContourSequence]\n",
    "            contours.append(contour)\n",
    "    return contours\n",
    "\n",
    "def get_mask(contours, slices):\n",
    "    z = [round(s.ImagePositionPatient[2],1) for s in slices] ##\n",
    "    #print(z)\n",
    "    pos_r = slices[0].ImagePositionPatient[1]\n",
    "    spacing_r = slices[0].PixelSpacing[1]\n",
    "    pos_c = slices[0].ImagePositionPatient[0]\n",
    "    spacing_c = slices[0].PixelSpacing[0]\n",
    "\n",
    "    label = np.zeros_like(image, dtype=np.uint8)\n",
    "    for con in contours:\n",
    "        num = int(con['number'])\n",
    "        \n",
    "        for c in con['contours']:\n",
    "            nodes = np.array(c).reshape((-1, 3)) #triplets describing points of contour\n",
    "            #assert np.amax(np.abs(np.diff(nodes[:, 2]))) == 0\n",
    "            z_index = z.index(np.around(nodes[0, 2], 1))\n",
    "            #print(np.around(nodes[0, 2], 1))\n",
    "            r = (nodes[:, 1] - pos_r) / spacing_r\n",
    "            c = (nodes[:, 0] - pos_c) / spacing_c\n",
    "            rr, cc = polygon(r, c)\n",
    "            label[rr, cc, z_index] = num\n",
    "            #con['color'] = [0, 0, 255] \n",
    "            colors = tuple(np.array([con['color'] for con in contours]) / 255.0)\n",
    "    return label, colors"
   ]
  },
  {
   "cell_type": "code",
   "execution_count": 3,
   "metadata": {},
   "outputs": [],
   "source": [
    "contour_path=\"C:/Users/lykha/OneDrive/Documents/Medical-imaging-Research/Data/Prostate Cases/9/rtsruct/rtss.dcm\"\n",
    "C:\\Users\\lykha\\OneDrive\\Documents\\Medical-imaging-Research\\Data\\Prostate Cases\\9\\rtstruct\n",
    "img_path=\"C:/Users/lykha/OneDrive/Documents/Medical-imaging-Research/Data/Prostate Cases/9/ct\""
   ]
  },
  {
   "cell_type": "code",
   "execution_count": 4,
   "metadata": {},
   "outputs": [
    {
     "ename": "FileNotFoundError",
     "evalue": "[Errno 2] No such file or directory: 'C:/Users/lykha/OneDrive/Documents/Medical-imaging-Research/Data/Prostate Cases/9/rtsruct/rtss.dcm'",
     "output_type": "error",
     "traceback": [
      "\u001b[1;31m---------------------------------------------------------------------------\u001b[0m",
      "\u001b[1;31mFileNotFoundError\u001b[0m                         Traceback (most recent call last)",
      "\u001b[1;32m<ipython-input-4-d9c9487715a0>\u001b[0m in \u001b[0;36m<module>\u001b[1;34m()\u001b[0m\n\u001b[0;32m      1\u001b[0m \u001b[1;31m#read img and contour\u001b[0m\u001b[1;33m\u001b[0m\u001b[1;33m\u001b[0m\u001b[0m\n\u001b[1;32m----> 2\u001b[1;33m \u001b[0mcontour\u001b[0m\u001b[1;33m=\u001b[0m\u001b[0mpydicom\u001b[0m\u001b[1;33m.\u001b[0m\u001b[0mread_file\u001b[0m\u001b[1;33m(\u001b[0m\u001b[0mcontour_path\u001b[0m\u001b[1;33m)\u001b[0m\u001b[1;33m\u001b[0m\u001b[0m\n\u001b[0m\u001b[0;32m      3\u001b[0m \u001b[0mcontours\u001b[0m\u001b[1;33m=\u001b[0m\u001b[0mread_structure\u001b[0m\u001b[1;33m(\u001b[0m\u001b[0mcontour\u001b[0m\u001b[1;33m)\u001b[0m\u001b[1;33m\u001b[0m\u001b[0m\n\u001b[0;32m      4\u001b[0m \u001b[0mslices\u001b[0m \u001b[1;33m=\u001b[0m \u001b[1;33m[\u001b[0m\u001b[0mpydicom\u001b[0m\u001b[1;33m.\u001b[0m\u001b[0mread_file\u001b[0m\u001b[1;33m(\u001b[0m\u001b[0mimg_path\u001b[0m \u001b[1;33m+\u001b[0m \u001b[1;34m'/'\u001b[0m \u001b[1;33m+\u001b[0m \u001b[0ms\u001b[0m\u001b[1;33m)\u001b[0m \u001b[1;32mfor\u001b[0m \u001b[0ms\u001b[0m \u001b[1;32min\u001b[0m \u001b[0mos\u001b[0m\u001b[1;33m.\u001b[0m\u001b[0mlistdir\u001b[0m\u001b[1;33m(\u001b[0m\u001b[0mimg_path\u001b[0m\u001b[1;33m)\u001b[0m\u001b[1;33m]\u001b[0m\u001b[1;33m\u001b[0m\u001b[0m\n\u001b[0;32m      5\u001b[0m \u001b[0mimage\u001b[0m \u001b[1;33m=\u001b[0m \u001b[0mnp\u001b[0m\u001b[1;33m.\u001b[0m\u001b[0mstack\u001b[0m\u001b[1;33m(\u001b[0m\u001b[1;33m[\u001b[0m\u001b[0ms\u001b[0m\u001b[1;33m.\u001b[0m\u001b[0mpixel_array\u001b[0m \u001b[1;32mfor\u001b[0m \u001b[0ms\u001b[0m \u001b[1;32min\u001b[0m \u001b[0mslices\u001b[0m\u001b[1;33m]\u001b[0m\u001b[1;33m,\u001b[0m \u001b[0maxis\u001b[0m\u001b[1;33m=\u001b[0m\u001b[1;33m-\u001b[0m\u001b[1;36m1\u001b[0m\u001b[1;33m)\u001b[0m\u001b[1;33m\u001b[0m\u001b[0m\n",
      "\u001b[1;32m~\\Anaconda3\\lib\\site-packages\\pydicom\\filereader.py\u001b[0m in \u001b[0;36mdcmread\u001b[1;34m(fp, defer_size, stop_before_pixels, force, specific_tags)\u001b[0m\n\u001b[0;32m    845\u001b[0m         \u001b[1;32mexcept\u001b[0m \u001b[0mException\u001b[0m\u001b[1;33m:\u001b[0m\u001b[1;33m\u001b[0m\u001b[0m\n\u001b[0;32m    846\u001b[0m             \u001b[0mlogger\u001b[0m\u001b[1;33m.\u001b[0m\u001b[0mdebug\u001b[0m\u001b[1;33m(\u001b[0m\u001b[1;34m\"Reading file '{0}'\"\u001b[0m\u001b[1;33m.\u001b[0m\u001b[0mformat\u001b[0m\u001b[1;33m(\u001b[0m\u001b[0mfp\u001b[0m\u001b[1;33m)\u001b[0m\u001b[1;33m)\u001b[0m\u001b[1;33m\u001b[0m\u001b[0m\n\u001b[1;32m--> 847\u001b[1;33m         \u001b[0mfp\u001b[0m \u001b[1;33m=\u001b[0m \u001b[0mopen\u001b[0m\u001b[1;33m(\u001b[0m\u001b[0mfp\u001b[0m\u001b[1;33m,\u001b[0m \u001b[1;34m'rb'\u001b[0m\u001b[1;33m)\u001b[0m\u001b[1;33m\u001b[0m\u001b[0m\n\u001b[0m\u001b[0;32m    848\u001b[0m \u001b[1;33m\u001b[0m\u001b[0m\n\u001b[0;32m    849\u001b[0m     \u001b[1;32mif\u001b[0m \u001b[0mconfig\u001b[0m\u001b[1;33m.\u001b[0m\u001b[0mdebugging\u001b[0m\u001b[1;33m:\u001b[0m\u001b[1;33m\u001b[0m\u001b[0m\n",
      "\u001b[1;31mFileNotFoundError\u001b[0m: [Errno 2] No such file or directory: 'C:/Users/lykha/OneDrive/Documents/Medical-imaging-Research/Data/Prostate Cases/9/rtsruct/rtss.dcm'"
     ]
    }
   ],
   "source": [
    "#read img and contour\n",
    "contour=pydicom.read_file(contour_path)\n",
    "contours=read_structure(contour)\n",
    "slices = [pydicom.read_file(img_path + '/' + s) for s in os.listdir(img_path)]\n",
    "image = np.stack([s.pixel_array for s in slices], axis=-1)\n",
    "label, colors = get_mask(contours, slices)"
   ]
  },
  {
   "cell_type": "code",
   "execution_count": null,
   "metadata": {},
   "outputs": [],
   "source": [
    "plt.hist(image.flatten(), bins=50, color='c')\n",
    "plt.xlabel(\"Hounsfield Units (HU)\")\n",
    "plt.ylabel(\"Frequency\")\n",
    "plt.show()"
   ]
  },
  {
   "cell_type": "code",
   "execution_count": null,
   "metadata": {},
   "outputs": [],
   "source": [
    "print(\"Slice Thickness: %f\" % slices[8].SliceThickness)\n",
    "print(\"Pixel Spacing (row, col): (%f, %f) \" % (slices[8].PixelSpacing[0], slices[8].PixelSpacing[1]))"
   ]
  },
  {
   "cell_type": "code",
   "execution_count": null,
   "metadata": {},
   "outputs": [],
   "source": [
    "plt.figure(figsize=(15, 15))\n",
    "for i in range(9):\n",
    "    plt.subplot(3, 3, i + 1)\n",
    "    plt.imshow(image[..., i  + 18 ], cmap=\"gray\")\n",
    "    plt.contour(label[..., i + 18 ], levels=[0.5, 1.5, 2.5, 3.5, 4.5], colors=colors)\n",
    "plt.axis('off')"
   ]
  },
  {
   "cell_type": "code",
   "execution_count": null,
   "metadata": {
    "scrolled": true
   },
   "outputs": [],
   "source": [
    "\n",
    "target_img = image[..., 19]\n",
    "target_label = label[..., 19]\n",
    "print(np.unique(target_label))\n",
    "fig,ax = plt.subplots(1,1,figsize=[12,12])\n",
    "ax.imshow(target_img, cmap=\"gray\")\n",
    "plt.contour(target_label, levels=[0.5, 1.5, 2.5, 3.5, 4.5], colors=colors)\n",
    "plt.show()"
   ]
  },
  {
   "cell_type": "code",
   "execution_count": null,
   "metadata": {},
   "outputs": [],
   "source": [
    "#blur the img\n",
    "from scipy.ndimage import gaussian_filter\n",
    "blur1=gaussian_filter(target_img, sigma=5)\n",
    "import cv2\n",
    "blur2 = cv2.GaussianBlur(target_img,(11,11),0)"
   ]
  },
  {
   "cell_type": "code",
   "execution_count": null,
   "metadata": {},
   "outputs": [],
   "source": [
    "fig,ax = plt.subplots(1,1,figsize=[12,12])\n",
    "ax.imshow(blur1, cmap=\"gray\")\n",
    "plt.show()"
   ]
  },
  {
   "cell_type": "code",
   "execution_count": null,
   "metadata": {},
   "outputs": [],
   "source": [
    "fig,ax = plt.subplots(1,1,figsize=[12,12])\n",
    "ax.imshow(blur2, cmap=\"gray\")\n",
    "plt.show()"
   ]
  },
  {
   "cell_type": "code",
   "execution_count": null,
   "metadata": {},
   "outputs": [],
   "source": [
    "np.unique(target_label)"
   ]
  },
  {
   "cell_type": "code",
   "execution_count": null,
   "metadata": {},
   "outputs": [],
   "source": [
    "row_size = target_label.shape[0]\n",
    "col_size = target_label.shape[1]\n",
    "\n",
    "#for N in good_labels:\n",
    "mask = np.where(target_label!=0,4,0)\n",
    "interior = morphology.erosion(mask,np.ones([3,3])) # one last dilation \n",
    "contour = np.where(interior==0, 1, 0)\n",
    "surface = contour*mask"
   ]
  },
  {
   "cell_type": "code",
   "execution_count": null,
   "metadata": {
    "scrolled": true
   },
   "outputs": [],
   "source": [
    "fig,ax = plt.subplots(1,1,figsize=[12,12])\n",
    "ax.imshow(surface, cmap=\"gray\")\n",
    "plt.show()"
   ]
  },
  {
   "cell_type": "code",
   "execution_count": null,
   "metadata": {},
   "outputs": [],
   "source": [
    "def search(vector, r, i, pos_neighbor, neg_neighbor, pos_current_distance, neg_current_distance):\n",
    "    if vector[i] != 0:   \n",
    "        if i-r > 0:\n",
    "            if i-r < min(pos_current_distance):\n",
    "                pos_current_distance.append(i-r)\n",
    "                #pos_neighbor = vector[i]\n",
    "                pos_neighbor = i\n",
    "            \n",
    "        elif i-r < 0:\n",
    "            if abs(i-r) < min(neg_current_distance):\n",
    "                neg_current_distance.append(abs(i-r))\n",
    "                #neg_neighbor = vector[i]\n",
    "                neg_neighbor = i\n",
    "    return pos_neighbor, neg_neighbor\n",
    "\n",
    "def nearest_neighbor_search(vector, r):\n",
    "    pos_neighbor = 0\n",
    "    neg_neighbor = 0\n",
    "    pos_current_distance = [len(vector)]\n",
    "    neg_current_distance = [len(vector)]\n",
    "    for i in range(0, len(vector)-1):\n",
    "        pos_neighbor, neg_neighbor = search(vector, r, i, pos_neighbor, neg_neighbor, pos_current_distance, neg_current_distance)\n",
    "    return pos_neighbor, neg_neighbor"
   ]
  },
  {
   "cell_type": "code",
   "execution_count": null,
   "metadata": {},
   "outputs": [],
   "source": [
    "def find_Fsd(k):\n",
    "    #rand = np.random.random()\n",
    "    #seed_value=int(100*rand+10000*k)\n",
    "    #np.random.seed(seed_value)\n",
    "    pRand_k = uniform.rvs(0, 1, size = 1)\n",
    "    Fsd_x=norm.ppf(pRand_k, loc=0, scale=SD[0])\n",
    "    Fsd_y=norm.ppf(pRand_k, loc=0, scale=SD[1])\n",
    "    Fsd_z=norm.ppf(pRand_k, loc=0, scale=SD[2])\n",
    "    Fsd_r = np.array([float(Fsd_x), float(Fsd_y), float(Fsd_z)])\n",
    "    return Fsd_r\n",
    "\n",
    "def find_Fct(roi, r, i, a, voxelsize, dist):\n",
    "    gradct = (roi[r+1,i]-roi[r-1, i])/(dist*voxelsize)\n",
    "    gradct_x = gradct[0]\n",
    "    gradct_y = gradct[1]\n",
    "    gradct_z = gradct[2]\n",
    "    Fct_x = a/(np.abs(gradct_x)+a)\n",
    "    Fct_y = a/(np.abs(gradct_y)+a)\n",
    "    Fct_z = a/(np.abs(gradct_z)+a)\n",
    "    Fct_r = np.array([float(Fct_x), float(Fct_y), float(Fct_z)])\n",
    "    return Fct_r\n",
    "        \n",
    "def find_Fct_interior_voxel(neg_Fct_r, pos_Fct_r, pos_r, neg_r, r, voxelsize):\n",
    "    Fct_x = neg_Fct_r[0] + (pos_Fct_r[0] - neg_Fct_r[0])/((pos_r - neg_r)*voxelsize[0])*((r - neg_r)*voxelsize[0])\n",
    "    Fct_y = neg_Fct_r[1] + (pos_Fct_r[1] - neg_Fct_r[1])/((pos_r - neg_r)*voxelsize[1])*((r - neg_r)*voxelsize[1])\n",
    "    Fct_z = neg_Fct_r[2] + (pos_Fct_r[2] - neg_Fct_r[2])/((pos_r - neg_r)*voxelsize[2])*((r - neg_r)*voxelsize[2])\n",
    "    Fct_r = np.array([float(Fct_x), float(Fct_y), float(Fct_z)])\n",
    "    return Fct_r\n",
    "\n",
    "def find_D(Fsd_r, Fct_r):\n",
    "    Fct_x =  Fct_r[0]\n",
    "    Fct_y =  Fct_r[1]\n",
    "    Fct_z =  Fct_r[2]\n",
    "    Fsd_x =  Fsd_r[0]\n",
    "    Fsd_y =  Fsd_r[1]\n",
    "    Fsd_z =  Fsd_r[2]\n",
    "    D_x = Fsd_x*Fct_x\n",
    "    D_y = Fsd_y*Fct_y\n",
    "    D_z = Fsd_z*Fct_z\n",
    "    D_r = [float(D_x), float(D_y), float(D_z)]\n",
    "    return D_r\n",
    "\n",
    "def r_to_xyz(F):\n",
    "    F_x =  F[0]\n",
    "    F_y =  F[1]\n",
    "    F_z =  F[2]\n",
    "    return F_x, F_y, F_z"
   ]
  },
  {
   "cell_type": "code",
   "execution_count": null,
   "metadata": {},
   "outputs": [],
   "source": [
    "def assd(slices, contour, k, voxelsize, a, dist, SD, surface, interior):\n",
    "    roi=slices*contour\n",
    "    dim=roi.shape[0]\n",
    "    mat = np.ndarray([dim, dim],dtype=np.float64)\n",
    "    dx = np.zeros((512, 512))\n",
    "    dy = np.zeros((512, 512))\n",
    "    dz = np.zeros((512, 512))\n",
    "    D = []\n",
    "    for i in range(0,dim-1):\n",
    "        for r in range(0,dim-1):\n",
    "            if  roi[r, i] != 0 and surface[r, i] != 0:\n",
    "                Fsd_r = find_Fsd(k)\n",
    "                Fct_r = find_Fct(roi, r, i, a, voxelsize, dist)\n",
    "                D_r = find_D(Fsd_r, Fct_r)\n",
    "                D_x, D_y, D_z = r_to_xyz(D_r)\n",
    "                dx[r, i] = D_x\n",
    "                dy[r, i] = D_y\n",
    "                dz[r, i] = D_z\n",
    "                D.append(D_r)\n",
    "                roi[r, i] = 1\n",
    "            \n",
    "            elif roi[r, i] != 0 and interior[r, i] != 0:\n",
    "                pos_r, neg_r = nearest_neighbor_search(surface[r], i)\n",
    "                if pos_r > neg_r:\n",
    "                    Fsd_r =  find_Fsd(k)\n",
    "                    pos_Fct_r = find_Fct(roi, pos_r, i, a, voxelsize, dist)\n",
    "                    neg_Fct_r = find_Fct(roi, neg_r, i, a, voxelsize, dist)\n",
    "                    pos_Fct_x, pos_Fct_y, pos_Fct_z = r_to_xyz(pos_Fct_r)\n",
    "                    neg_Fct_x, neg_Fct_y, neg_Fct_z = r_to_xyz(neg_Fct_r)\n",
    "                    Fct_r = find_Fct_interior_voxel(neg_Fct_r, pos_Fct_r, pos_r, neg_r, r, voxelsize)\n",
    "                    D_r = find_D(Fsd_r, Fct_r)\n",
    "                    D.append(D_r)\n",
    "                    D_x, D_y, D_z = r_to_xyz(D_r)\n",
    "                    dx[r, i] = D_x\n",
    "                    dy[r, i] =  D_y\n",
    "                    dz[r, i] = D_z\n",
    "        \n",
    "                    roi[r, i] = 0\n",
    "            \n",
    "    return D, dx, dy, dz, roi"
   ]
  },
  {
   "cell_type": "code",
   "execution_count": null,
   "metadata": {},
   "outputs": [],
   "source": [
    "#roi = target_label*target_img\n",
    "k=1\n",
    "a=50\n",
    "dist=2\n",
    "#voxelsize = np.array([0.488281, 0.488281, 1.25])\n",
    "voxelsize = np.array([0.976562, 0.976562, 2.5])\n",
    "SD=[1.7, 2, 2.5]\n",
    "assd_mask, dx, dy, dz, roi_new = assd(target_img, mask, k, voxelsize, a, dist, SD, surface, interior)"
   ]
  },
  {
   "cell_type": "code",
   "execution_count": null,
   "metadata": {},
   "outputs": [],
   "source": [
    "roi_cord = np.argwhere(mask != 0)\n",
    "x = []\n",
    "y = []\n",
    "z = []\n",
    "for i in roi_cord.tolist():\n",
    "    x.append(i[0])\n",
    "    y.append(i[1])\n",
    "    z.append(1)\n",
    "x = np.array(x)\n",
    "y = np.array(y)\n",
    "z = np.array(z)"
   ]
  },
  {
   "cell_type": "code",
   "execution_count": null,
   "metadata": {},
   "outputs": [],
   "source": [
    "u = []\n",
    "v = []\n",
    "w = []\n",
    "u_cord = np.argwhere(dx != 0)\n",
    "v_cord = np.argwhere(dy != 0)\n",
    "w_cord = np.argwhere(dz != 0)\n",
    "\n",
    "for i in u_cord.tolist():\n",
    "    u.append(dx[i[0], i[1]])\n",
    "for i in v_cord.tolist():\n",
    "    v.append(dy[i[0], i[1]])\n",
    "for i in w_cord.tolist():\n",
    "    w.append(dy[i[0], i[1]])\n",
    "    \n",
    "u = np.array(u)\n",
    "v = np.array(v)\n",
    "w = np.array(w)"
   ]
  },
  {
   "cell_type": "code",
   "execution_count": null,
   "metadata": {},
   "outputs": [],
   "source": [
    "fig,ax = plt.subplots()\n",
    "ax.quiver(x, y, u, v)\n",
    "plt.show()"
   ]
  },
  {
   "cell_type": "code",
   "execution_count": null,
   "metadata": {},
   "outputs": [],
   "source": [
    "DU_mask = np.zeros((512,512))\n",
    "x_new = x + v\n",
    "y_new = y + u\n",
    "for i in range(len(x_new)-1):\n",
    "    DU_mask[int(round(x_new[i], 0)), int(round(y_new[i], 0))] = 1\n",
    "    DU_mask[int(x[i]), int(y[i])] = 1"
   ]
  },
  {
   "cell_type": "code",
   "execution_count": null,
   "metadata": {},
   "outputs": [],
   "source": [
    "fig,ax = plt.subplots(1,1,figsize=[12,12])\n",
    "plt.imshow(target_img)\n",
    "ax.contour(DU_mask, colors=\"red\")\n",
    "ax.contour(mask, levels=[0.5, 1.5, 2.5, 3.5, 4.5], colors=\"blue\")\n",
    "#ax.quiverkey(q, X=0.3, Y=1.1, U=10,\n",
    "             #label='Quiver key, length = 10', labelpos='E')\n",
    "plt.show()"
   ]
  },
  {
   "cell_type": "code",
   "execution_count": null,
   "metadata": {},
   "outputs": [],
   "source": [
    "#gaussian kde\n",
    "from scipy.stats import kde\n",
    "np.random.seed(1977)\n",
    "\n",
    "x, y = x_new, y_new\n",
    "nbins = 10\n",
    "\n",
    "# Evaluate a gaussian kde on a regular grid of nbins x nbins over data extents\n",
    "k = kde.gaussian_kde(np.array([x_new, y_new]))\n",
    "xi, yi = np.mgrid[x.min():x.max():nbins*1j, y.min():y.max():nbins*1j]\n",
    "zi = k(np.vstack([xi.flatten(), yi.flatten()]))"
   ]
  },
  {
   "cell_type": "code",
   "execution_count": null,
   "metadata": {
    "scrolled": true
   },
   "outputs": [],
   "source": [
    "fig,ax = plt.subplots(1,1,figsize=[12,12])\n",
    "plt.imshow(target_img)\n",
    "#ax.scatter(y_new, x_new, color=\"r\", s=2)\n",
    "ax.contour(yi, xi, zi.reshape(xi.shape), levels=2, colors=('black', 'red', 'black', 'black'))\n",
    "ax.contour(mask, levels=[0.5, 1.5, 2.5, 3.5, 4.5], colors=\"blue\")\n",
    "\n",
    "plt.show()"
   ]
  },
  {
   "cell_type": "code",
   "execution_count": null,
   "metadata": {},
   "outputs": [],
   "source": [
    "import random\n",
    "def find_pq(Qi ,i):\n",
    "    phi_qx = random.randint(0, 2*pi)\n",
    "    phi_qy = random.randint(0, 2*pi)\n",
    "    phi_qz = random.randint(0, 2*pi)\n",
    "    \n",
    "    mq = 1 #2 or 3\n",
    "    Qx=Qi[0]\n",
    "    Qy=Qi[1]\n",
    "    Qz=Qi[2]\n",
    "    Pq_x = sin(2*math.pi*(i/Qx)*mq + phi_qx)\n",
    "    Pq_y = sin(2*math.pi*(i/Qy)*mq + phi_qy)\n",
    "    Pq_z = sin(2*math.pi*(i/Qz)*mq + phi_qz)\n",
    "    PQ_r = [float(Pq_x), float(Pq_y), float(Pq_z)]\n",
    "    \n",
    "    return PQ_r"
   ]
  },
  {
   "cell_type": "code",
   "execution_count": null,
   "metadata": {},
   "outputs": [],
   "source": [
    "def find_D2(Fsd_r, Fct_r, pq_r):\n",
    "    Fct_x =  Fct_r[0]\n",
    "    Fct_y =  Fct_r[1]\n",
    "    Fct_z =  Fct_r[2]\n",
    "    Fsd_x =  Fsd_r[0]\n",
    "    Fsd_y =  Fsd_r[1]\n",
    "    Fsd_z =  Fsd_r[2]\n",
    "    pq_x = pq_r[0]\n",
    "    pq_y = pq_r[1]\n",
    "    pq_z = pq_r[2]\n",
    "    D_x = Fsd_x*Fct_x*q_x\n",
    "    D_y = Fsd_y*Fct_y*q_y\n",
    "    D_z = Fsd_z*Fct_z*q_z\n",
    "    D_r = [float(D_x), float(D_y), float(D_z)]\n",
    "    return D_r"
   ]
  },
  {
   "cell_type": "code",
   "execution_count": null,
   "metadata": {},
   "outputs": [],
   "source": [
    "def assd(slices, contour, k, voxelsize, a, SD, surface, interior):\n",
    "    roi=slices*contour\n",
    "    dim=roi.shape[0]\n",
    "    mat = np.ndarray([dim, dim],dtype=np.float64)\n",
    "    dx = np.zeros((512, 512))\n",
    "    dy = np.zeros((512, 512))\n",
    "    dz = np.zeros((512, 512))\n",
    "    D = []\n",
    "    Q_r = find_Q(surface)\n",
    "    for r in range(0,dim-1):\n",
    "        for i in range(0,dim-1):\n",
    "            if  roi[r, i] != 0 and surface[r, i] != 0:\n",
    "                Fsd_r = find_Fsd(k)\n",
    "                Fct_r = find_Fct(roi, r, c, a, voxelsize, dist)\n",
    "                Qi_r=Q_r[i]\n",
    "                PQ_r = find_pq(i, Qi_r)\n",
    "                D_r = find_D2(Fsd_r, Fct_r, PQ_r)\n",
    "                D_x, D_y, D_z = r_to_xyz(D_r)\n",
    "                dx[r, i] = D_x\n",
    "                dy[r, i] = D_y\n",
    "                dz[r, i] = D_z\n",
    "                D.append(D_r)\n",
    "                roi[r, i] = 1\n",
    "            \n",
    "            elif roi[r, i] != 0 and interior[r, i] != 0:\n",
    "                pos_r, neg_r = nearest_neighbor_search(surface[r], i)\n",
    "                if pos_r > neg_r:\n",
    "                    Fsd_r =  find_Fsd(k)\n",
    "                    pos_Fct_r = find_Fct(roi, pos_r, i, a, voxelsize, dist)\n",
    "                    neg_Fct_r = find_Fct(roi, neg_r, i, a, voxelsize, dist)\n",
    "                    pos_Fct_x, pos_Fct_y, pos_Fct_z = r_to_xyz(pos_Fct_r)\n",
    "                    neg_Fct_x, neg_Fct_y, neg_Fct_z = r_to_xyz(neg_Fct_r)\n",
    "                    Fct_r = find_Fct_interior_voxel(neg_Fct_r, pos_Fct_r, pos_r, neg_r, r, voxelsize)\n",
    "                    Qi_r=Q_r[i]\n",
    "                    PQ_r = find_pq(i, Qi)\n",
    "                    D_r = find_D2(Fsd_r, Fct_r, PQ_r)\n",
    "                    D.append(D_r)\n",
    "                    D_x, D_y, D_z = r_to_xyz(D_r)\n",
    "                    dx[r, i] = D_x\n",
    "                    dy[r, i] =  D_y\n",
    "                    dz[r, i] = D_z\n",
    "                    roi[r, i] = 0\n",
    "            \n",
    "    return D, dx, dy, dz, roi"
   ]
  },
  {
   "cell_type": "code",
   "execution_count": null,
   "metadata": {},
   "outputs": [],
   "source": [
    "def find_Q():\n",
    "    ##sort (x,y,z)\n",
    "    return Q_r"
   ]
  }
 ],
 "metadata": {
  "kernelspec": {
   "display_name": "Python 3",
   "language": "python",
   "name": "python3"
  },
  "language_info": {
   "codemirror_mode": {
    "name": "ipython",
    "version": 3
   },
   "file_extension": ".py",
   "mimetype": "text/x-python",
   "name": "python",
   "nbconvert_exporter": "python",
   "pygments_lexer": "ipython3",
   "version": "3.7.0"
  }
 },
 "nbformat": 4,
 "nbformat_minor": 2
}
