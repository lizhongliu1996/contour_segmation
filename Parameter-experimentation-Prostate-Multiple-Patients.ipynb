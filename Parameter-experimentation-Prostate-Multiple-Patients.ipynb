{
 "cells": [
  {
   "cell_type": "code",
   "execution_count": 1,
   "metadata": {},
   "outputs": [],
   "source": [
    "%matplotlib inline\n",
    "\n",
    "from dicom_utils import *\n",
    "import numpy as np \n",
    "import pandas as pd \n",
    "import os\n",
    "import pydicom\n",
    "import matplotlib.pyplot as plt\n",
    "#import assd_func as af\n",
    "from skimage import morphology\n",
    "import matplotlib.patches as mpatches\n",
    "import assd_func_Sobel_2 as af_Sobel\n",
    "import time\n",
    "import random\n",
    "from scipy.stats import uniform,norm"
   ]
  },
  {
   "cell_type": "code",
   "execution_count": 2,
   "metadata": {},
   "outputs": [],
   "source": [
    "dicom_dir = \"C:\\\\Users\\\\lykha\\\\OneDrive\\\\Documents\\\\1_PhD_Fall_2020\\\\Research_MDA\\\\Prostate Cases\\\\1\"\n",
    "output_dir = \"Output\"\n",
    "images_1, slices_1, contours_1, labels_1, dummy_mask_1 = main(dicom_dir, output_dir)"
   ]
  },
  {
   "cell_type": "markdown",
   "metadata": {},
   "source": [
    "dicom_dir = \"C:\\\\Users\\\\lykha\\\\OneDrive\\\\Documents\\\\1_PhD_Fall_2020\\\\Research_MDA\\\\Prostate Cases\\\\2\"\n",
    "output_dir = \"Output\"\n",
    "#No rectum\n",
    "images_2, slices_2, contours_2, labels_2, dummy_mask_2 = main(dicom_dir, output_dir)"
   ]
  },
  {
   "cell_type": "code",
   "execution_count": 4,
   "metadata": {},
   "outputs": [],
   "source": [
    "dicom_dir = \"C:\\\\Users\\\\lykha\\\\OneDrive\\\\Documents\\\\1_PhD_Fall_2020\\\\Research_MDA\\\\Prostate Cases\\\\3\"\n",
    "output_dir = \"Output\"\n",
    "images_3, slices_3, contours_3, labels_3, dummy_mask_3 = main(dicom_dir, output_dir)"
   ]
  },
  {
   "cell_type": "code",
   "execution_count": 5,
   "metadata": {},
   "outputs": [
    {
     "name": "stdout",
     "output_type": "stream",
     "text": [
      "   Missing contours for structure: sigmoid\n"
     ]
    }
   ],
   "source": [
    "dicom_dir = \"C:\\\\Users\\\\lykha\\\\OneDrive\\\\Documents\\\\1_PhD_Fall_2020\\\\Research_MDA\\\\Prostate Cases\\\\4\"\n",
    "output_dir = \"Output\"\n",
    "images_4, slices_4, contours_4, labels_4, dummy_mask_4 = main(dicom_dir, output_dir)"
   ]
  },
  {
   "cell_type": "code",
   "execution_count": 6,
   "metadata": {},
   "outputs": [
    {
     "name": "stdout",
     "output_type": "stream",
     "text": [
      "   Missing contours for structure: CTV_\n",
      "   Missing contours for structure: SeminalVes_Dist\n",
      "   Missing contours for structure: Hot Spot 7210 cGy (Rectum)\n",
      "   Missing contours for structure: Hot Spot 7350 cGy (Total PTV)\n"
     ]
    }
   ],
   "source": [
    "dicom_dir = \"C:\\\\Users\\\\lykha\\\\OneDrive\\\\Documents\\\\1_PhD_Fall_2020\\\\Research_MDA\\\\Prostate Cases\\\\5\"\n",
    "output_dir = \"Output\"\n",
    "images_5, slices_5, contours_5, labels_5, dummy_mask_5 = main(dicom_dir, output_dir)"
   ]
  },
  {
   "cell_type": "code",
   "execution_count": 7,
   "metadata": {},
   "outputs": [],
   "source": [
    "dicom_dir = \"C:\\\\Users\\\\lykha\\\\OneDrive\\\\Documents\\\\1_PhD_Fall_2020\\\\Research_MDA\\\\Prostate Cases\\\\6\"\n",
    "output_dir = \"Output\"\n",
    "images_6, slices_6, contours_6, labels_6, dummy_mask_6 = main(dicom_dir, output_dir)"
   ]
  },
  {
   "cell_type": "code",
   "execution_count": 8,
   "metadata": {},
   "outputs": [],
   "source": [
    "dicom_dir = \"C:\\\\Users\\\\lykha\\\\OneDrive\\\\Documents\\\\1_PhD_Fall_2020\\\\Research_MDA\\\\Prostate Cases\\\\7\"\n",
    "output_dir = \"Output\"\n",
    "images_7, slices_7, contours_7, labels_7, dummy_mask_7 = main(dicom_dir, output_dir)"
   ]
  },
  {
   "cell_type": "code",
   "execution_count": 9,
   "metadata": {},
   "outputs": [],
   "source": [
    "dicom_dir = \"C:\\\\Users\\\\lykha\\\\OneDrive\\\\Documents\\\\1_PhD_Fall_2020\\\\Research_MDA\\\\Prostate Cases\\\\8\"\n",
    "output_dir = \"Output\"\n",
    "images_8, slices_8, contours_8, labels_8, dummy_mask_8 = main(dicom_dir, output_dir)"
   ]
  },
  {
   "cell_type": "code",
   "execution_count": 10,
   "metadata": {},
   "outputs": [],
   "source": [
    "dicom_dir = \"C:\\\\Users\\\\lykha\\\\OneDrive\\\\Documents\\\\1_PhD_Fall_2020\\\\Research_MDA\\\\Prostate Cases\\\\9\"\n",
    "output_dir = \"Output\"\n",
    "images_9, slices_9, contours_9, labels_9, dummy_mask_9 = main(dicom_dir, output_dir)"
   ]
  },
  {
   "cell_type": "code",
   "execution_count": 11,
   "metadata": {},
   "outputs": [
    {
     "name": "stdout",
     "output_type": "stream",
     "text": [
      "   Missing contours for structure: ROI_1\n"
     ]
    }
   ],
   "source": [
    "dicom_dir = \"C:\\\\Users\\\\lykha\\\\OneDrive\\\\Documents\\\\1_PhD_Fall_2020\\\\Research_MDA\\\\Prostate Cases\\\\10\"\n",
    "output_dir = \"Output\"\n",
    "images_10, slices_10, contours_10, labels_10, dummy_mask_10 = main(dicom_dir, output_dir)"
   ]
  },
  {
   "cell_type": "markdown",
   "metadata": {},
   "source": [
    "# Rectum"
   ]
  },
  {
   "cell_type": "code",
   "execution_count": null,
   "metadata": {},
   "outputs": [],
   "source": [
    "organ_i = 1\n",
    "plt.figure(figsize=(15, 15))\n",
    "for i in range(9):\n",
    "    plt.subplot(3, 3, i + 1)\n",
    "    plt.imshow(images_1[i + 63, ...], cmap=\"gray\", vmin=-250, vmax=250)\n",
    "    plt.contour(labels_1[..., organ_i][i + 63, ...], levels=[0.5, 1.5, 2.5, 3.5, 4.5], colors=\"blue\")\n",
    "plt.axis('off')"
   ]
  },
  {
   "cell_type": "markdown",
   "metadata": {},
   "source": [
    "plt.figure(figsize=(15, 15))\n",
    "for i in range(9):\n",
    "    plt.subplot(3, 3, i + 1)\n",
    "    plt.imshow(images_2[i + 63, ...], cmap=\"gray\", vmin=-250, vmax=250)\n",
    "    plt.contour(labels_2[..., organ_i][i + 63, ...], levels=[0.5, 1.5, 2.5, 3.5, 4.5], colors=\"blue\")\n",
    "plt.axis('off')"
   ]
  },
  {
   "cell_type": "code",
   "execution_count": null,
   "metadata": {},
   "outputs": [],
   "source": [
    "plt.figure(figsize=(15, 15))\n",
    "for i in range(9):\n",
    "    plt.subplot(3, 3, i + 1)\n",
    "    plt.imshow(images_3[i + 63, ...], cmap=\"gray\", vmin=-250, vmax=250)\n",
    "    plt.contour(labels_3[..., organ_i][i + 63, ...], levels=[0.5, 1.5, 2.5, 3.5, 4.5], colors=\"blue\")\n",
    "plt.axis('off')"
   ]
  },
  {
   "cell_type": "code",
   "execution_count": null,
   "metadata": {},
   "outputs": [],
   "source": [
    "plt.figure(figsize=(15, 15))\n",
    "for i in range(9):\n",
    "    plt.subplot(3, 3, i + 1)\n",
    "    plt.imshow(images_4[i + 63, ...], cmap=\"gray\", vmin=-250, vmax=250)\n",
    "    plt.contour(labels_4[..., organ_i][i + 63, ...], levels=[0.5, 1.5, 2.5, 3.5, 4.5], colors=\"blue\")\n",
    "plt.axis('off')"
   ]
  },
  {
   "cell_type": "code",
   "execution_count": null,
   "metadata": {},
   "outputs": [],
   "source": [
    "plt.figure(figsize=(15, 15))\n",
    "for i in range(9):\n",
    "    plt.subplot(3, 3, i + 1)\n",
    "    plt.imshow(images_5[i + 63, ...], cmap=\"gray\", vmin=-250, vmax=250)\n",
    "    plt.contour(labels_5[..., organ_i][i + 63, ...], levels=[0.5, 1.5, 2.5, 3.5, 4.5], colors=\"blue\")\n",
    "plt.axis('off')"
   ]
  },
  {
   "cell_type": "code",
   "execution_count": null,
   "metadata": {},
   "outputs": [],
   "source": [
    "plt.figure(figsize=(15, 15))\n",
    "for i in range(9):\n",
    "    plt.subplot(3, 3, i + 1)\n",
    "    plt.imshow(images_6[i + 63, ...], cmap=\"gray\", vmin=-250, vmax=250)\n",
    "    plt.contour(labels_6[..., organ_i][i + 63, ...], levels=[0.5, 1.5, 2.5, 3.5, 4.5], colors=\"blue\")\n",
    "plt.axis('off')"
   ]
  },
  {
   "cell_type": "code",
   "execution_count": null,
   "metadata": {},
   "outputs": [],
   "source": [
    "plt.figure(figsize=(15, 15))\n",
    "for i in range(9):\n",
    "    plt.subplot(3, 3, i + 1)\n",
    "    plt.imshow(images_7[i + 63, ...], cmap=\"gray\", vmin=-250, vmax=250)\n",
    "    plt.contour(labels_7[..., organ_i][i + 63, ...], levels=[0.5, 1.5, 2.5, 3.5, 4.5], colors=\"blue\")\n",
    "plt.axis('off')"
   ]
  },
  {
   "cell_type": "code",
   "execution_count": null,
   "metadata": {},
   "outputs": [],
   "source": [
    "plt.figure(figsize=(15, 15))\n",
    "for i in range(9):\n",
    "    plt.subplot(3, 3, i + 1)\n",
    "    plt.imshow(images_8[i + 63, ...], cmap=\"gray\", vmin=-250, vmax=250)\n",
    "    plt.contour(labels_8[..., organ_i][i + 63, ...], levels=[0.5, 1.5, 2.5, 3.5, 4.5], colors=\"blue\")\n",
    "plt.axis('off')"
   ]
  },
  {
   "cell_type": "code",
   "execution_count": null,
   "metadata": {},
   "outputs": [],
   "source": [
    "plt.figure(figsize=(15, 15))\n",
    "for i in range(9):\n",
    "    plt.subplot(3, 3, i + 1)\n",
    "    plt.imshow(images_9[i + 63, ...], cmap=\"gray\", vmin=-250, vmax=250)\n",
    "    plt.contour(labels_9[..., organ_i][i + 63, ...], levels=[0.5, 1.5, 2.5, 3.5, 4.5], colors=\"blue\")\n",
    "plt.axis('off')"
   ]
  },
  {
   "cell_type": "code",
   "execution_count": null,
   "metadata": {},
   "outputs": [],
   "source": [
    "plt.figure(figsize=(15, 15))\n",
    "for i in range(9):\n",
    "    plt.subplot(3, 3, i + 1)\n",
    "    plt.imshow(images_10[i + 63, ...], cmap=\"gray\", vmin=-250, vmax=250)\n",
    "    plt.contour(labels_10[..., organ_i][i + 63, ...], levels=[0.5, 1.5, 2.5, 3.5, 4.5], colors=\"blue\")\n",
    "plt.axis('off')"
   ]
  },
  {
   "cell_type": "markdown",
   "metadata": {},
   "source": [
    "## Paremeter Experimentation"
   ]
  },
  {
   "cell_type": "code",
   "execution_count": 8,
   "metadata": {},
   "outputs": [],
   "source": [
    "def dice_coef(seg, gt, k=1):\n",
    "    dice = np.sum(seg[gt==k])*2.0 / (np.sum(seg) + np.sum(gt))\n",
    "    return dice\n",
    "\n",
    "def create_log(df, c, k, w, ismax, dice):\n",
    "    if ismax:\n",
    "        ismax = \"max\"\n",
    "    else: \n",
    "        ismax = \"min\"\n",
    "    df = df.append({'c' : c, 'k' : k, 'w': w, 'min/max' : ismax, 'dice': dice},  \n",
    "                ignore_index = True) \n",
    "    return df"
   ]
  },
  {
   "cell_type": "code",
   "execution_count": null,
   "metadata": {},
   "outputs": [],
   "source": [
    "target_img1 = images_1[75, ...]\n",
    "target_label1 = labels_1[..., organ_i][75, ...]\n",
    "dice_list = []\n",
    "a=50\n",
    "voxelsize = np.array([0.976562, 0.976562, 2.5])\n",
    "plt.figure(figsize=(15, 15))\n",
    "c_list = [1, 3, 5, 10, 15, 20, 25, 30, 35, 10, 15, 50, 55, 60, 65, 70, 75, 80, 90, 100]\n",
    "k = 1\n",
    "df = pd.DataFrame(columns = ['k', 'c', 'w', 'min/max', \"dice\"]) \n",
    "ismax=False\n",
    "circles = 3\n",
    "seed = 123\n",
    "w = 2\n",
    "for i in range(len(c_list)):\n",
    "    c = c_list[i]\n",
    "    SD=[c*1.3, c*1.3, c*3]\n",
    "    dx, dy, mask1, t1, L1, roi_z = af_Sobel.assd_Sobel(target_img1, target_label1, voxelsize, a, SD, circles, seed, k, w, images, labels, organ_i, ismax=ismax, smooth=True)\n",
    "    du1 = af_Sobel.plotting_assd(dx, dy, mask, target_img1, quiver=False, plot=False)\n",
    "    dice = dice_coef(du1, target_label1, 1)\n",
    "    dice_list.append(dice)\n",
    "    df = create_log(df, c, k, w, ismax, dice)\n",
    "    plt.subplot(1, 5, i + 1)\n",
    "    plt.imshow(target_img1, cmap=\"gray\")\n",
    "    plt.contour(target_label1, levels=[0.5, 1.5, 2.5, 3.5, 1.5], colors=\"green\")\n",
    "    plt.contour(du1, levels=[0.5, 1.5, 2.5, 3.5, 1.5], colors=\"red\")\n",
    "    plt.xlim(270, 220)\n",
    "    plt.ylim(300, 260)\n",
    "    plt.title(\"c = \" + str(c_list[i]))\n",
    "    plt.axis('off')\n",
    "destination_path = \"C:\\\\Users\\\\lykha\\\\OneDrive\\\\Documents\\\\1_PhD_Fall_2020\\\\Research_MDA\\\\contour_segmentation\\\\Output\\\\log\\\\\"\n",
    "df.to_csv(destination_path + \"Dice_log_Rectum.csv\")\n",
    "# plot dice  \n",
    "plt.figure(figsize=(15, 15))\n",
    "plt.plot(c_list, dice_list, label=\"Dice coef\")\n",
    "plt.ylabel(\"Dice\")\n",
    "plt.xlabel(\"c*[1.7, 2, 2.5]\")\n",
    "plt.legend()"
   ]
  },
  {
   "cell_type": "code",
   "execution_count": 11,
   "metadata": {},
   "outputs": [
    {
     "data": {
      "image/png": "[encoded data removed]",
      "text/plain": [
       "<Figure size 1080x1080 with 20 Axes>"
      ]
     },
     "metadata": {
      "needs_background": "light"
     },
     "output_type": "display_data"
    }
   ],
   "source": [
    "target_img2 = images_2[75, ...]\n",
    "target_label2 = labels_2[..., organ_i][75, ...]\n",
    "dice_list = []\n",
    "a=50\n",
    "voxelsize = np.array([0.976562, 0.976562, 2.5])\n",
    "plt.figure(figsize=(15, 15))\n",
    "c_list = [1, 3, 5, 10, 15, 20, 25, 30, 35, 20, 25, 50, 55, 60, 65, 70, 75, 80, 90, 100]\n",
    "k = 10\n",
    "df = pd.DataFrame(columns = ['k', 'c', 'w', 'min/max', \"dice\"]) \n",
    "ismax=False\n",
    "circles = 3\n",
    "seed = 123\n",
    "w = 2\n",
    "for i in range(len(c_list)):\n",
    "    c = c_list[i]\n",
    "    SD=[c*1.3, c*1.3, c*3]\n",
    "    dx, dy, mask2, t1, L1, roi_z = af_Sobel.assd_Sobel(target_img2, target_label2, voxelsize, a, SD, circles, seed, k, w, images, labels, organ_i, ismax=ismax, smooth=True)\n",
    "    du2 = af_Sobel.plotting_assd(dx, dy, mask, target_img2, quiver=False, plot=False)\n",
    "    dice = dice_coef(du2, target_label2, 1)\n",
    "    dice_list.append(dice)\n",
    "    df = create_log(df, c, k, w, ismax, dice)\n",
    "    plt.subplot(2, 5, i + 1)\n",
    "    plt.imshow(target_img2, cmap=\"gray\")\n",
    "    plt.contour(target_label2, levels=[0.5, 1.5, 2.5, 3.5, 2.5], colors=\"green\")\n",
    "    plt.contour(du2, levels=[0.5, 1.5, 2.5, 3.5, 2.5], colors=\"red\")\n",
    "    plt.xlim(270, 220)\n",
    "    plt.ylim(300, 260)\n",
    "    plt.title(\"c = \" + str(c_list[i]))\n",
    "    plt.axis('off')\n",
    "destination_path = \"C:\\\\Users\\\\lykha\\\\OneDrive\\\\Documents\\\\1_PhD_Fall_2020\\\\Research_MDA\\\\contour_segmentation\\\\Output\\\\log\\\\\"\n",
    "df.to_csv(destination_path + \"Dice_log_Rectum.csv\")\n",
    "# plot dice  \n",
    "plt.figure(figsize=(15, 15))\n",
    "plt.plot(c_list, dice_list, label=\"Dice coef\")\n",
    "plt.ylabel(\"Dice\")\n",
    "plt.xlabel(\"c*[1.7, 2, 2.5]\")\n",
    "plt.legend()"
   ]
  },
  {
   "cell_type": "code",
   "execution_count": null,
   "metadata": {},
   "outputs": [],
   "source": [
    "target_img3 = images_3[75, ...]\n",
    "target_label3 = labels_3[..., organ_i][75, ...]\n",
    "dice_list = []\n",
    "a=50\n",
    "voxelsize = np.array([0.976562, 0.976562, 2.5])\n",
    "plt.figure(figsize=(15, 15))\n",
    "c_list = [1, 3, 5, 10, 15, 20, 25, 30, 35, 30, 35, 50, 55, 60, 65, 70, 75, 80, 90, 100]\n",
    "k = 10\n",
    "df = pd.DataFrame(columns = ['k', 'c', 'w', 'min/max', \"dice\"]) \n",
    "ismax=False\n",
    "circles = 3\n",
    "seed = 123\n",
    "w = 2\n",
    "for i in range(len(c_list)):\n",
    "    c = c_list[i]\n",
    "    SD=[c*1.3, c*1.3, c*3]\n",
    "    dx, dy, mask3, t1, L1, roi_z = af_Sobel.assd_Sobel(target_img3, target_label3, voxelsize, a, SD, circles, seed, k, w, images, labels, organ_i, ismax=ismax, smooth=True)\n",
    "    du3 = af_Sobel.plotting_assd(dx, dy, mask, target_img3, quiver=False, plot=False)\n",
    "    dice = dice_coef(du3, target_label3, 1)\n",
    "    dice_list.append(dice)\n",
    "    df = create_log(df, c, k, w, ismax, dice)\n",
    "    plt.subplot(3, 5, i + 1)\n",
    "    plt.imshow(target_img3, cmap=\"gray\")\n",
    "    plt.contour(target_label3, levels=[0.5, 1.5, 2.5, 3.5, 3.5], colors=\"green\")\n",
    "    plt.contour(du3, levels=[0.5, 1.5, 2.5, 3.5, 3.5], colors=\"red\")\n",
    "    plt.xlim(270, 220)\n",
    "    plt.ylim(300, 260)\n",
    "    plt.title(\"c = \" + str(c_list[i]))\n",
    "    plt.axis('off')\n",
    "destination_path = \"C:\\\\Users\\\\lykha\\\\OneDrive\\\\Documents\\\\1_PhD_Fall_2020\\\\Research_MDA\\\\contour_segmentation\\\\Output\\\\log\\\\\"\n",
    "df.to_csv(destination_path + \"Dice_log_Rectum.csv\")\n",
    "# plot dice  \n",
    "plt.figure(figsize=(15, 15))\n",
    "plt.plot(c_list, dice_list, label=\"Dice coef\")\n",
    "plt.ylabel(\"Dice\")\n",
    "plt.xlabel(\"c*[1.7, 2, 2.5]\")\n",
    "plt.legend()"
   ]
  },
  {
   "cell_type": "code",
   "execution_count": null,
   "metadata": {},
   "outputs": [],
   "source": [
    "target_img4 = images_4[75, ...]\n",
    "target_label4 = labels_4[..., organ_i][75, ...]\n",
    "dice_list = []\n",
    "a=50\n",
    "voxelsize = np.array([0.976562, 0.976562, 2.5])\n",
    "plt.figure(figsize=(15, 15))\n",
    "c_list = [1, 3, 5, 10, 15, 20, 25, 30, 35, 40, 45, 50, 55, 60, 65, 70, 75, 80, 90, 100]\n",
    "k = 10\n",
    "df = pd.DataFrame(columns = ['k', 'c', 'w', 'min/max', \"dice\"]) \n",
    "ismax=False\n",
    "circles = 3\n",
    "seed = 123\n",
    "w = 2\n",
    "for i in range(len(c_list)):\n",
    "    c = c_list[i]\n",
    "    SD=[c*1.3, c*1.3, c*3]\n",
    "    dx, dy, mask4, t1, L1, roi_z = af_Sobel.assd_Sobel(target_img4, target_label4, voxelsize, a, SD, circles, seed, k, w, images, labels, organ_i, ismax=ismax, smooth=True)\n",
    "    du4 = af_Sobel.plotting_assd(dx, dy, mask, target_img4, quiver=False, plot=False)\n",
    "    dice = dice_coef(du4, target_label4, 1)\n",
    "    dice_list.append(dice)\n",
    "    df = create_log(df, c, k, w, ismax, dice)\n",
    "    plt.subplot(4, 5, i + 1)\n",
    "    plt.imshow(target_img4, cmap=\"gray\")\n",
    "    plt.contour(target_label4, levels=[0.5, 1.5, 2.5, 3.5, 4.5], colors=\"green\")\n",
    "    plt.contour(du4, levels=[0.5, 1.5, 2.5, 3.5, 4.5], colors=\"red\")\n",
    "    plt.xlim(270, 220)\n",
    "    plt.ylim(300, 260)\n",
    "    plt.title(\"c = \" + str(c_list[i]))\n",
    "    plt.axis('off')\n",
    "destination_path = \"C:\\\\Users\\\\lykha\\\\OneDrive\\\\Documents\\\\1_PhD_Fall_2020\\\\Research_MDA\\\\contour_segmentation\\\\Output\\\\log\\\\\"\n",
    "df.to_csv(destination_path + \"Dice_log_Rectum.csv\")\n",
    "# plot dice  \n",
    "plt.figure(figsize=(15, 15))\n",
    "plt.plot(c_list, dice_list, label=\"Dice coef\")\n",
    "plt.ylabel(\"Dice\")\n",
    "plt.xlabel(\"c*[1.7, 2, 2.5]\")\n",
    "plt.legend()"
   ]
  },
  {
   "cell_type": "code",
   "execution_count": null,
   "metadata": {},
   "outputs": [],
   "source": [
    "target_img5 = images_5[75, ...]\n",
    "target_label5 = labels_5[..., organ_i][75, ...]\n",
    "dice_list = []\n",
    "a=50\n",
    "voxelsize = np.array([0.976562, 0.976562, 2.5])\n",
    "plt.figure(figsize=(15, 15))\n",
    "c_list = [1, 3, 5, 10, 15, 20, 25, 30, 35, 50, 55, 50, 55, 60, 65, 70, 75, 80, 90, 100]\n",
    "k = 10\n",
    "df = pd.DataFrame(columns = ['k', 'c', 'w', 'min/max', \"dice\"]) \n",
    "ismax=False\n",
    "circles = 3\n",
    "seed = 123\n",
    "w = 2\n",
    "for i in range(len(c_list)):\n",
    "    c = c_list[i]\n",
    "    SD=[c*1.3, c*1.3, c*3]\n",
    "    dx, dy, mask5, t1, L1, roi_z = af_Sobel.assd_Sobel(target_img5, target_label5, voxelsize, a, SD, circles, seed, k, w, images, labels, organ_i, ismax=ismax, smooth=True)\n",
    "    du5 = af_Sobel.plotting_assd(dx, dy, mask, target_img5, quiver=False, plot=False)\n",
    "    dice = dice_coef(du5, target_label5, 1)\n",
    "    dice_list.append(dice)\n",
    "    df = create_log(df, c, k, w, ismax, dice)\n",
    "    plt.subplot(5, 5, i + 1)\n",
    "    plt.imshow(target_img5, cmap=\"gray\")\n",
    "    plt.contour(target_label5, levels=[0.5, 1.5, 2.5, 3.5, 5.5], colors=\"green\")\n",
    "    plt.contour(du5, levels=[0.5, 1.5, 2.5, 3.5, 5.5], colors=\"red\")\n",
    "    plt.xlim(270, 220)\n",
    "    plt.ylim(300, 260)\n",
    "    plt.title(\"c = \" + str(c_list[i]))\n",
    "    plt.axis('off')\n",
    "destination_path = \"C:\\\\Users\\\\lykha\\\\OneDrive\\\\Documents\\\\1_PhD_Fall_2020\\\\Research_MDA\\\\contour_segmentation\\\\Output\\\\log\\\\\"\n",
    "df.to_csv(destination_path + \"Dice_log_Rectum.csv\")\n",
    "# plot dice  \n",
    "plt.figure(figsize=(15, 15))\n",
    "plt.plot(c_list, dice_list, label=\"Dice coef\")\n",
    "plt.ylabel(\"Dice\")\n",
    "plt.xlabel(\"c*[1.7, 2, 2.5]\")\n",
    "plt.legend()"
   ]
  },
  {
   "cell_type": "code",
   "execution_count": null,
   "metadata": {},
   "outputs": [],
   "source": [
    "target_img6 = images_6[75, ...]\n",
    "target_label6 = labels_6[..., organ_i][75, ...]\n",
    "dice_list = []\n",
    "a=50\n",
    "voxelsize = np.array([0.976562, 0.976562, 2.5])\n",
    "plt.figure(figsize=(15, 15))\n",
    "c_list = [1, 3, 5, 10, 15, 20, 25, 30, 35, 60, 65, 50, 55, 60, 65, 70, 75, 80, 90, 100]\n",
    "k = 10\n",
    "df = pd.DataFrame(columns = ['k', 'c', 'w', 'min/max', \"dice\"]) \n",
    "ismax=False\n",
    "circles = 3\n",
    "seed = 123\n",
    "w = 2\n",
    "for i in range(len(c_list)):\n",
    "    c = c_list[i]\n",
    "    SD=[c*1.3, c*1.3, c*3]\n",
    "    dx, dy, mask6, t1, L1, roi_z = af_Sobel.assd_Sobel(target_img6, target_label6, voxelsize, a, SD, circles, seed, k, w, images, labels, organ_i, ismax=ismax, smooth=True)\n",
    "    du6 = af_Sobel.plotting_assd(dx, dy, mask, target_img6, quiver=False, plot=False)\n",
    "    dice = dice_coef(du6, target_label6, 1)\n",
    "    dice_list.append(dice)\n",
    "    df = create_log(df, c, k, w, ismax, dice)\n",
    "    plt.subplot(6, 5, i + 1)\n",
    "    plt.imshow(target_img6, cmap=\"gray\")\n",
    "    plt.contour(target_label6, levels=[0.5, 1.5, 2.5, 3.5, 6.5], colors=\"green\")\n",
    "    plt.contour(du6, levels=[0.5, 1.5, 2.5, 3.5, 6.5], colors=\"red\")\n",
    "    plt.xlim(270, 220)\n",
    "    plt.ylim(300, 260)\n",
    "    plt.title(\"c = \" + str(c_list[i]))\n",
    "    plt.axis('off')\n",
    "destination_path = \"C:\\\\Users\\\\lykha\\\\OneDrive\\\\Documents\\\\1_PhD_Fall_2020\\\\Research_MDA\\\\contour_segmentation\\\\Output\\\\log\\\\\"\n",
    "df.to_csv(destination_path + \"Dice_log_Rectum.csv\")\n",
    "# plot dice  \n",
    "plt.figure(figsize=(15, 15))\n",
    "plt.plot(c_list, dice_list, label=\"Dice coef\")\n",
    "plt.ylabel(\"Dice\")\n",
    "plt.xlabel(\"c*[1.7, 2, 2.5]\")\n",
    "plt.legend()"
   ]
  },
  {
   "cell_type": "code",
   "execution_count": null,
   "metadata": {},
   "outputs": [],
   "source": [
    "target_img7 = images_7[75, ...]\n",
    "target_label7 = labels_7[..., organ_i][75, ...]\n",
    "dice_list = []\n",
    "a=50\n",
    "voxelsize = np.array([0.976562, 0.976562, 2.5])\n",
    "plt.figure(figsize=(15, 15))\n",
    "c_list = [1, 3, 5, 10, 15, 20, 25, 30, 35, 70, 75, 50, 55, 60, 65, 70, 75, 80, 90, 100]\n",
    "k = 10\n",
    "df = pd.DataFrame(columns = ['k', 'c', 'w', 'min/max', \"dice\"]) \n",
    "ismax=False\n",
    "circles = 3\n",
    "seed = 123\n",
    "w = 2\n",
    "for i in range(len(c_list)):\n",
    "    c = c_list[i]\n",
    "    SD=[c*1.3, c*1.3, c*3]\n",
    "    dx, dy, mask7, t1, L1, roi_z = af_Sobel.assd_Sobel(target_img7, target_label7, voxelsize, a, SD, circles, seed, k, w, images, labels, organ_i, ismax=ismax, smooth=True)\n",
    "    du7 = af_Sobel.plotting_assd(dx, dy, mask, target_img7, quiver=False, plot=False)\n",
    "    dice = dice_coef(du7, target_label7, 1)\n",
    "    dice_list.append(dice)\n",
    "    df = create_log(df, c, k, w, ismax, dice)\n",
    "    plt.subplot(7, 5, i + 1)\n",
    "    plt.imshow(target_img7, cmap=\"gray\")\n",
    "    plt.contour(target_label7, levels=[0.5, 1.5, 2.5, 3.5, 7.5], colors=\"green\")\n",
    "    plt.contour(du7, levels=[0.5, 1.5, 2.5, 3.5, 7.5], colors=\"red\")\n",
    "    plt.xlim(270, 220)\n",
    "    plt.ylim(300, 260)\n",
    "    plt.title(\"c = \" + str(c_list[i]))\n",
    "    plt.axis('off')\n",
    "destination_path = \"C:\\\\Users\\\\lykha\\\\OneDrive\\\\Documents\\\\1_PhD_Fall_2020\\\\Research_MDA\\\\contour_segmentation\\\\Output\\\\log\\\\\"\n",
    "df.to_csv(destination_path + \"Dice_log_Rectum.csv\")\n",
    "# plot dice  \n",
    "plt.figure(figsize=(15, 15))\n",
    "plt.plot(c_list, dice_list, label=\"Dice coef\")\n",
    "plt.ylabel(\"Dice\")\n",
    "plt.xlabel(\"c*[1.7, 2, 2.5]\")\n",
    "plt.legend()"
   ]
  },
  {
   "cell_type": "code",
   "execution_count": null,
   "metadata": {},
   "outputs": [],
   "source": [
    "target_img8 = images_8[75, ...]\n",
    "target_label8 = labels_8[..., organ_i][75, ...]\n",
    "dice_list = []\n",
    "a=50\n",
    "voxelsize = np.array([0.976562, 0.976562, 2.5])\n",
    "plt.figure(figsize=(15, 15))\n",
    "c_list = [1, 3, 5, 10, 15, 20, 25, 30, 35, 80, 85, 50, 55, 60, 65, 70, 75, 80, 90, 100]\n",
    "k = 10\n",
    "df = pd.DataFrame(columns = ['k', 'c', 'w', 'min/max', \"dice\"]) \n",
    "ismax=False\n",
    "circles = 3\n",
    "seed = 123\n",
    "w = 2\n",
    "for i in range(len(c_list)):\n",
    "    c = c_list[i]\n",
    "    SD=[c*1.3, c*1.3, c*3]\n",
    "    dx, dy, mask8, t1, L1, roi_z = af_Sobel.assd_Sobel(target_img8, target_label8, voxelsize, a, SD, circles, seed, k, w, images, labels, organ_i, ismax=ismax, smooth=True)\n",
    "    du8 = af_Sobel.plotting_assd(dx, dy, mask, target_img8, quiver=False, plot=False)\n",
    "    dice = dice_coef(du8, target_label8, 1)\n",
    "    dice_list.append(dice)\n",
    "    df = create_log(df, c, k, w, ismax, dice)\n",
    "    plt.subplot(8, 5, i + 1)\n",
    "    plt.imshow(target_img8, cmap=\"gray\")\n",
    "    plt.contour(target_label8, levels=[0.5, 1.5, 2.5, 3.5, 8.5], colors=\"green\")\n",
    "    plt.contour(du8, levels=[0.5, 1.5, 2.5, 3.5, 8.5], colors=\"red\")\n",
    "    plt.xlim(270, 220)\n",
    "    plt.ylim(300, 260)\n",
    "    plt.title(\"c = \" + str(c_list[i]))\n",
    "    plt.axis('off')\n",
    "destination_path = \"C:\\\\Users\\\\lykha\\\\OneDrive\\\\Documents\\\\1_PhD_Fall_2020\\\\Research_MDA\\\\contour_segmentation\\\\Output\\\\log\\\\\"\n",
    "df.to_csv(destination_path + \"Dice_log_Rectum.csv\")\n",
    "# plot dice  \n",
    "plt.figure(figsize=(15, 15))\n",
    "plt.plot(c_list, dice_list, label=\"Dice coef\")\n",
    "plt.ylabel(\"Dice\")\n",
    "plt.xlabel(\"c*[1.7, 2, 2.5]\")\n",
    "plt.legend()"
   ]
  },
  {
   "cell_type": "code",
   "execution_count": null,
   "metadata": {},
   "outputs": [],
   "source": [
    "target_img9 = images_9[75, ...]\n",
    "target_label9 = labels_9[..., organ_i][75, ...]\n",
    "dice_list = []\n",
    "a=50\n",
    "voxelsize = np.array([0.976562, 0.976562, 2.5])\n",
    "plt.figure(figsize=(15, 15))\n",
    "c_list = [1, 3, 5, 10, 15, 20, 25, 30, 35, 90, 95, 50, 55, 60, 65, 70, 75, 80, 90, 100]\n",
    "k = 10\n",
    "df = pd.DataFrame(columns = ['k', 'c', 'w', 'min/max', \"dice\"]) \n",
    "ismax=False\n",
    "circles = 3\n",
    "seed = 123\n",
    "w = 2\n",
    "for i in range(len(c_list)):\n",
    "    c = c_list[i]\n",
    "    SD=[c*1.3, c*1.3, c*3]\n",
    "    dx, dy, mask9, t1, L1, roi_z = af_Sobel.assd_Sobel(target_img9, target_label9, voxelsize, a, SD, circles, seed, k, w, images, labels, organ_i, ismax=ismax, smooth=True)\n",
    "    du9 = af_Sobel.plotting_assd(dx, dy, mask, target_img9, quiver=False, plot=False)\n",
    "    dice = dice_coef(du9, target_label9, 1)\n",
    "    dice_list.append(dice)\n",
    "    df = create_log(df, c, k, w, ismax, dice)\n",
    "    plt.subplot(9, 5, i + 1)\n",
    "    plt.imshow(target_img9, cmap=\"gray\")\n",
    "    plt.contour(target_label9, levels=[0.5, 1.5, 2.5, 3.5, 9.5], colors=\"green\")\n",
    "    plt.contour(du9, levels=[0.5, 1.5, 2.5, 3.5, 9.5], colors=\"red\")\n",
    "    plt.xlim(270, 220)\n",
    "    plt.ylim(300, 260)\n",
    "    plt.title(\"c = \" + str(c_list[i]))\n",
    "    plt.axis('off')\n",
    "destination_path = \"C:\\\\Users\\\\lykha\\\\OneDrive\\\\Documents\\\\1_PhD_Fall_2020\\\\Research_MDA\\\\contour_segmentation\\\\Output\\\\log\\\\\"\n",
    "df.to_csv(destination_path + \"Dice_log_Rectum.csv\")\n",
    "# plot dice  \n",
    "plt.figure(figsize=(15, 15))\n",
    "plt.plot(c_list, dice_list, label=\"Dice coef\")\n",
    "plt.ylabel(\"Dice\")\n",
    "plt.xlabel(\"c*[1.7, 2, 2.5]\")\n",
    "plt.legend()"
   ]
  },
  {
   "cell_type": "code",
   "execution_count": null,
   "metadata": {},
   "outputs": [],
   "source": [
    "target_img10 = images_10[75, ...]\n",
    "target_label10 = labels_10[..., organ_i][75, ...]\n",
    "dice_list = []\n",
    "a=50\n",
    "voxelsize = np.array([0.976562, 0.976562, 2.5])\n",
    "plt.figure(figsize=(15, 15))\n",
    "c_list = [1, 3, 5, 10, 15, 20, 25, 30, 35, 100, 105, 50, 55, 60, 65, 70, 75, 80, 90, 100]\n",
    "k = 10\n",
    "df = pd.DataFrame(columns = ['k', 'c', 'w', 'min/max', \"dice\"]) \n",
    "ismax=False\n",
    "circles = 3\n",
    "seed = 123\n",
    "w = 2\n",
    "for i in range(len(c_list)):\n",
    "    c = c_list[i]\n",
    "    SD=[c*1.3, c*1.3, c*3]\n",
    "    dx, dy, mask10, t1, L1, roi_z = af_Sobel.assd_Sobel(target_img10, target_label10, voxelsize, a, SD, circles, seed, k, w, images, labels, organ_i, ismax=ismax, smooth=True)\n",
    "    du10 = af_Sobel.plotting_assd(dx, dy, mask, target_img10, quiver=False, plot=False)\n",
    "    dice = dice_coef(du10, target_label10, 1)\n",
    "    dice_list.append(dice)\n",
    "    df = create_log(df, c, k, w, ismax, dice)\n",
    "    plt.subplot(10, 5, i + 1)\n",
    "    plt.imshow(target_img10, cmap=\"gray\")\n",
    "    plt.contour(target_label10, levels=[0.5, 1.5, 2.5, 3.5, 10.5], colors=\"green\")\n",
    "    plt.contour(du10, levels=[0.5, 1.5, 2.5, 3.5, 10.5], colors=\"red\")\n",
    "    plt.xlim(270, 220)\n",
    "    plt.ylim(300, 260)\n",
    "    plt.title(\"c = \" + str(c_list[i]))\n",
    "    plt.axis('off')\n",
    "destination_path = \"C:\\\\Users\\\\lykha\\\\OneDrive\\\\Documents\\\\1_PhD_Fall_2020\\\\Research_MDA\\\\contour_segmentation\\\\Output\\\\log\\\\\"\n",
    "df.to_csv(destination_path + \"Dice_log_Rectum.csv\")\n",
    "# plot dice  \n",
    "plt.figure(figsize=(15, 15))\n",
    "plt.plot(c_list, dice_list, label=\"Dice coef\")\n",
    "plt.ylabel(\"Dice\")\n",
    "plt.xlabel(\"c*[1.7, 2, 2.5]\")\n",
    "plt.legend()"
   ]
  }
 ],
 "metadata": {
  "kernelspec": {
   "display_name": "Python 3",
   "language": "python",
   "name": "python3"
  },
  "language_info": {
   "codemirror_mode": {
    "name": "ipython",
    "version": 3
   },
   "file_extension": ".py",
   "mimetype": "text/x-python",
   "name": "python",
   "nbconvert_exporter": "python",
   "pygments_lexer": "ipython3",
   "version": "3.7.0"
  }
 },
 "nbformat": 4,
 "nbformat_minor": 2
}
